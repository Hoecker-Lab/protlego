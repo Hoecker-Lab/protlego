{
 "cells": [
  {
   "cell_type": "markdown",
   "metadata": {},
   "source": [
    "# Building chimeras"
   ]
  },
  {
   "cell_type": "markdown",
   "metadata": {},
   "source": [
    "We can build chimeras from two proteins that present a fragment in common. There are several ways to do this, but we will here build a chimera by aligning the domains (in the fragment they have in common) and finding a crossover point in this region that divides the two parents in two parts. The parts are then shuffled and recombined. "
   ]
  },
  {
   "cell_type": "markdown",
   "metadata": {},
   "source": [
    "First import the protlego module."
   ]
  },
  {
   "cell_type": "code",
   "execution_count": 1,
   "metadata": {},
   "outputs": [],
   "source": [
    "import sys\n",
    "from protlego import *"
   ]
  },
  {
   "cell_type": "markdown",
   "metadata": {},
   "source": [
    "Fetch for example by the HitID from the Fuzzle database. As explained more in detail in the \"Fetching from the Fuzzle database\" section. We are fetching a hit between the P-loop and the Tim-barrel folds in this case."
   ]
  },
  {
   "cell_type": "code",
   "execution_count": 2,
   "metadata": {},
   "outputs": [],
   "source": [
    "myhit= fetch_id('10002347')"
   ]
  },
  {
   "cell_type": "markdown",
   "metadata": {},
   "source": [
    "### Chimera-Building using Protlego"
   ]
  },
  {
   "cell_type": "markdown",
   "metadata": {},
   "source": [
    "First create an instance of the Builder class."
   ]
  },
  {
   "cell_type": "code",
   "execution_count": 3,
   "metadata": {},
   "outputs": [
    {
     "name": "stderr",
     "output_type": "stream",
     "text": [
      "2020-07-31 10:08:19,602 - protlego - INFO - Attempting to download domain d1thfd_ from the SCOP server\n",
      "2020-07-31 10:08:21,006 - protlego - INFO - File downloaded as /tmp/tmpx5chghyk.pdb\n",
      "2020-07-31 10:08:21,007 - protlego - INFO - Attempting to download domain d2yhsa2 from the SCOP server\n",
      "2020-07-31 10:08:22,236 - protlego - INFO - File downloaded as /tmp/tmp8iz9xjtq.pdb\n",
      "2020-07-31 10:08:22,238 - protlego - INFO - Loading /tmp/tmpx5chghyk.pdb as a chimera object\n",
      "2020-07-31 10:08:22,433 - moleculekit.molecule - WARNING - Alternative atom locations detected. Only altloc A was kept. If you prefer to keep all use the keepaltloc=\"all\" option when reading the file.\n",
      "2020-07-31 10:08:22,437 - protlego - INFO - Loading /tmp/tmp8iz9xjtq.pdb as a chimera object\n",
      "2020-07-31 10:08:22,506 - moleculekit.molecule - WARNING - Alternative atom locations detected. Only altloc A was kept. If you prefer to keep all use the keepaltloc=\"all\" option when reading the file.\n"
     ]
    }
   ],
   "source": [
    "a=Builder(myhit)"
   ]
  },
  {
   "cell_type": "markdown",
   "metadata": {},
   "source": [
    "You can see the query and the subject of the hit stored in the variables qPDB and sPDB as chimera objects"
   ]
  },
  {
   "cell_type": "code",
   "execution_count": 4,
   "metadata": {},
   "outputs": [
    {
     "data": {
      "text/plain": [
       "<protlego.builder.chimera.Chimera object at 0x7f875cdccbe0>\n",
       "Protein with:\n",
       "Number of residues: 253\n",
       "Number of atoms: 1949"
      ]
     },
     "execution_count": 4,
     "metadata": {},
     "output_type": "execute_result"
    }
   ],
   "source": [
    "a.qPDB"
   ]
  },
  {
   "cell_type": "markdown",
   "metadata": {},
   "source": [
    "As described in the previous tutorial, myhit includes information about the two proteins that share a fragment, like the scop IDs, length, and TM-align scores,  among others."
   ]
  },
  {
   "cell_type": "code",
   "execution_count": 5,
   "metadata": {},
   "outputs": [
    {
     "name": "stdout",
     "output_type": "stream",
     "text": [
      "Hit between d1thfd_ and d2yhsa2 with probability 88.1 %\n",
      "\n",
      "c.1.2.1\n",
      "c.37.1.10\n",
      "166\n",
      "0.40627\n"
     ]
    }
   ],
   "source": [
    "print(myhit)\n",
    "print(myhit.q_scop_id)\n",
    "print(myhit.s_scop_id)\n",
    "print(myhit.cols)\n",
    "print(myhit.score_tm)"
   ]
  },
  {
   "cell_type": "markdown",
   "metadata": {},
   "source": [
    "Align the sequences of query and subject with HHPred using get_alignment function."
   ]
  },
  {
   "cell_type": "code",
   "execution_count": 6,
   "metadata": {},
   "outputs": [
    {
     "name": "stderr",
     "output_type": "stream",
     "text": [
      "2020-07-31 10:08:22,533 - protlego - INFO - Attempting to download hhs file for d1thfd_ from the FUZZLE server\n",
      "2020-07-31 10:08:22,709 - protlego - INFO - File downloaded as /tmp/tmpsakmp68n.hhs\n"
     ]
    }
   ],
   "source": [
    "aln=a.get_alignment(myhit.query,myhit.no)"
   ]
  },
  {
   "cell_type": "markdown",
   "metadata": {},
   "source": [
    "Now we can have a look at the sequence alignment:"
   ]
  },
  {
   "cell_type": "code",
   "execution_count": 7,
   "metadata": {},
   "outputs": [
    {
     "name": "stdout",
     "output_type": "stream",
     "text": [
      "LGKFYSEIGIDELVFLDITASVEKRKTMLELVEKVAEQIDIPFTVGGGIHD-----FETASELILRGADKVSINTAAV--ENPSLITQIAQTFG---------SQAVVVAIDAKRVDGEFMVFTYSGKKNTGILLRDWVVEV-EKRGAGEILLTSIDRDGTKSGYDTEMIRFVRPLTTLPIIASGGAGKMEHFLEAFLAGADAALAAS\n",
      "LARQFEQQG-KSVMLAAGDT---FRAAAVEQLQVWGQRNNIPVIAQHTGADSASVIFDAIQAAKARNIDVLIADTAGRLQNKSHLMEELKKIVRVMKKLDVEAPHEVMLTIDAS----------------TGQNAVSQAKLFHEAVGLTGITLTKLDGTAKGGVI-----FSVADQFGIPIRYIGVGERIEDLRPFKADDFIEALFAR\n"
     ]
    }
   ],
   "source": [
    "print(aln.query)\n",
    "print(aln.subject)"
   ]
  },
  {
   "cell_type": "markdown",
   "metadata": {},
   "source": [
    "The sequence alignment corresponds to the exact fragment that the two proteins have in common, so it does not include the full protein sequences. Now, we need to map these alignments to the protein structures, because ultimately we need to align the two protein structures in these fragment region. "
   ]
  },
  {
   "cell_type": "markdown",
   "metadata": {},
   "source": [
    "We can thus superimpose the structures with the superimpose_structures() function, and we choose to align the structures using partial alignment. This means that instead of only one, global alignment being produced, rather, several alignments comprising smaller regions of the fragment (10-20 residues) are undertaken in parallel. We do this to provide multiple regions where the two proteins are closer than 1 armstrong in distance, and thus obtain more fusion points for the chimeras."
   ]
  },
  {
   "cell_type": "code",
   "execution_count": 8,
   "metadata": {
    "scrolled": true
   },
   "outputs": [
    {
     "name": "stderr",
     "output_type": "stream",
     "text": [
      "2020-07-31 10:08:24,046 - protlego - INFO - Performing alignment 1 with TMalign\n",
      "2020-07-31 10:08:27,661 - protlego - INFO - The RMSD between the fragments is 0.33239004015922546 over 9 alpha carbons\n",
      "2020-07-31 10:08:27,672 - protlego - INFO - Performing alignment 2 with TMalign\n",
      "2020-07-31 10:08:27,762 - protlego - INFO - The RMSD between the fragments is 1.2737349271774292 over 10 alpha carbons\n",
      "2020-07-31 10:08:27,775 - protlego - INFO - Performing alignment 3 with TMalign\n",
      "2020-07-31 10:08:27,873 - protlego - INFO - The RMSD between the fragments is 3.9785287380218506 over 28 alpha carbons\n",
      "2020-07-31 10:08:27,884 - protlego - INFO - Performing alignment 4 with TMalign\n",
      "2020-07-31 10:08:27,974 - protlego - INFO - The RMSD between the fragments is 3.051856756210327 over 22 alpha carbons\n",
      "2020-07-31 10:08:27,985 - protlego - INFO - Performing alignment 5 with TMalign\n",
      "2020-07-31 10:08:28,072 - protlego - INFO - The RMSD between the fragments is 1.534366488456726 over 14 alpha carbons\n",
      "2020-07-31 10:08:28,082 - protlego - INFO - Performing alignment 6 with TMalign\n",
      "2020-07-31 10:08:28,166 - protlego - INFO - The RMSD between the fragments is 2.1622886657714844 over 11 alpha carbons\n",
      "2020-07-31 10:08:28,177 - protlego - INFO - Performing alignment 7 with TMalign\n",
      "2020-07-31 10:08:28,277 - protlego - INFO - The RMSD between the fragments is 2.422672986984253 over 12 alpha carbons\n",
      "2020-07-31 10:08:28,288 - protlego - INFO - Performing alignment 8 with TMalign\n",
      "2020-07-31 10:08:28,391 - protlego - INFO - The RMSD between the fragments is 5.102012634277344 over 22 alpha carbons\n",
      "2020-07-31 10:08:28,401 - protlego - INFO - Performing alignment 9 with TMalign\n",
      "2020-07-31 10:08:28,497 - protlego - INFO - The RMSD between the fragments is 9.403940200805664 over 38 alpha carbons\n"
     ]
    }
   ],
   "source": [
    "qPDB, sPDB = a.superimpose_structures(aln,partial_alignment=True)"
   ]
  },
  {
   "cell_type": "markdown",
   "metadata": {},
   "source": [
    "The two variables produced are two dictionaries, which contain several molecules, each pair in a geometry that optimizes each of the alignments. We can visualize these structures easily, by simply calling the view() method. A new VMD window will open showing the structure. For example, less visualize the first alignment by slicing the first key in the dictionary:\n"
   ]
  },
  {
   "cell_type": "code",
   "execution_count": 9,
   "metadata": {},
   "outputs": [],
   "source": [
    "qPDB[0].view()"
   ]
  },
  {
   "cell_type": "markdown",
   "metadata": {},
   "source": [
    "The superimpose_structures() command also produces two lists for query and subject. One of them is global_qpairs, which simply contains the indices of the protein that correspond to the srquence aligment. This list is used when we superimpose the structures using a global alignment (all atoms taken into account at once). The other is qpairs, which correspond to the same residues, but they are clustered in smaller regions that will be aligned iteratively if we choose to perform a partial alignment. "
   ]
  },
  {
   "cell_type": "code",
   "execution_count": 10,
   "metadata": {},
   "outputs": [
    {
     "name": "stdout",
     "output_type": "stream",
     "text": [
      "[[261, 269, 273, 282, 293, 305, 311, 320, 328], [340, 348, 357, 365, 372, 383, 391, 399, 407, 414], [441, 450, 461, 470, 477, 485, 493, 502, 510, 517, 526, 535, 542, 547, 556, 565, 573, 581, 589, 596, 607, 614, 621, 625, 629, 633, 641, 651], [659, 670, 679, 686, 691, 697, 706, 714, 722, 730, 741, 745, 750, 758, 767, 774, 780, 788, 796, 803, 808, 813], [820, 829, 837, 844, 850, 858, 866, 873, 882, 890, 895, 904, 911, 922], [926, 932, 941, 946, 953, 960, 967, 972, 980, 988, 993], [1133, 1140, 1144, 1152, 1160, 1168, 1179, 1187, 1201, 1208, 1215, 1224], [1231, 1240, 1249, 1260, 1264, 1269, 1273, 1282, 1290, 1298, 1306, 1313, 1319, 1327, 1335, 1346, 1354, 1358, 1365, 1374, 1380, 1384], [1436, 1447, 1458, 1465, 1476, 1483, 1491, 1498, 1505, 1513, 1520, 1528, 1536, 1541, 1547, 1551, 1555, 1560, 1564, 1573, 1581, 1590, 1600, 1611, 1619, 1628, 1633, 1644, 1652, 1657, 1661, 1666, 1674, 1679, 1684, 1692, 1697, 1702]]\n",
      "[[261, 269, 273, 282, 293, 305, 311, 320, 328, 340, 348, 357, 365, 372, 383, 391, 399, 407, 414, 441, 450, 461, 470, 477, 485, 493, 502, 510, 517, 526, 535, 542, 547, 556, 565, 573, 581, 589, 596, 607, 614, 621, 625, 629, 633, 641, 651, 659, 670, 679, 686, 691, 697, 706, 714, 722, 730, 741, 745, 750, 758, 767, 774, 780, 788, 796, 803, 808, 813, 820, 829, 837, 844, 850, 858, 866, 873, 882, 890, 895, 904, 911, 922, 926, 932, 941, 946, 953, 960, 967, 972, 980, 988, 993, 1133, 1140, 1144, 1152, 1160, 1168, 1179, 1187, 1201, 1208, 1215, 1224, 1231, 1240, 1249, 1260, 1264, 1269, 1273, 1282, 1290, 1298, 1306, 1313, 1319, 1327, 1335, 1346, 1354, 1358, 1365, 1374, 1380, 1384, 1436, 1447, 1458, 1465, 1476, 1483, 1491, 1498, 1505, 1513, 1520, 1528, 1536, 1541, 1547, 1551, 1555, 1560, 1564, 1573, 1581, 1590, 1600, 1611, 1619, 1628, 1633, 1644, 1652, 1657, 1661, 1666, 1674, 1679, 1684, 1692, 1697, 1702]]\n"
     ]
    }
   ],
   "source": [
    "print(a.qpairs)\n",
    "print(a.global_qpairs)"
   ]
  },
  {
   "cell_type": "markdown",
   "metadata": {},
   "source": [
    "Now we can build all the possible chimeras and store them in a dictionary."
   ]
  },
  {
   "cell_type": "code",
   "execution_count": 11,
   "metadata": {},
   "outputs": [],
   "source": [
    "chimeras=a.build_chimeras(partial_alignment=True)"
   ]
  },
  {
   "cell_type": "code",
   "execution_count": 12,
   "metadata": {
    "scrolled": true
   },
   "outputs": [
    {
     "data": {
      "text/plain": [
       "{'comb1_155': <protlego.builder.chimera.Chimera object at 0x7f8703525400>\n",
       " Protein with:\n",
       " Number of residues: 221\n",
       " Number of atoms: 1695,\n",
       " 'comb1_156': <protlego.builder.chimera.Chimera object at 0x7f87033a0668>\n",
       " Protein with:\n",
       " Number of residues: 221\n",
       " Number of atoms: 1700,\n",
       " 'comb1_157': <protlego.builder.chimera.Chimera object at 0x7f87033a0940>\n",
       " Protein with:\n",
       " Number of residues: 221\n",
       " Number of atoms: 1702,\n",
       " 'comb1_158': <protlego.builder.chimera.Chimera object at 0x7f8702a84e80>\n",
       " Protein with:\n",
       " Number of residues: 221\n",
       " Number of atoms: 1700,\n",
       " 'comb1_159': <protlego.builder.chimera.Chimera object at 0x7f8703300c88>\n",
       " Protein with:\n",
       " Number of residues: 221\n",
       " Number of atoms: 1701,\n",
       " 'comb2_165': <protlego.builder.chimera.Chimera object at 0x7f8702f940f0>\n",
       " Protein with:\n",
       " Number of residues: 244\n",
       " Number of atoms: 1854,\n",
       " 'comb2_166': <protlego.builder.chimera.Chimera object at 0x7f8702f94198>\n",
       " Protein with:\n",
       " Number of residues: 244\n",
       " Number of atoms: 1857,\n",
       " 'comb2_167': <protlego.builder.chimera.Chimera object at 0x7f870323b9b0>\n",
       " Protein with:\n",
       " Number of residues: 244\n",
       " Number of atoms: 1852,\n",
       " 'comb2_168': <protlego.builder.chimera.Chimera object at 0x7f8702fe1390>\n",
       " Protein with:\n",
       " Number of residues: 244\n",
       " Number of atoms: 1852,\n",
       " 'comb1_169': <protlego.builder.chimera.Chimera object at 0x7f8703525940>\n",
       " Protein with:\n",
       " Number of residues: 220\n",
       " Number of atoms: 1695,\n",
       " 'comb1_170': <protlego.builder.chimera.Chimera object at 0x7f8702fc7cc0>\n",
       " Protein with:\n",
       " Number of residues: 220\n",
       " Number of atoms: 1695,\n",
       " 'comb1_171': <protlego.builder.chimera.Chimera object at 0x7f870329c630>\n",
       " Protein with:\n",
       " Number of residues: 220\n",
       " Number of atoms: 1695,\n",
       " 'comb2_190': <protlego.builder.chimera.Chimera object at 0x7f870320ff60>\n",
       " Protein with:\n",
       " Number of residues: 239\n",
       " Number of atoms: 1796,\n",
       " 'comb2_191': <protlego.builder.chimera.Chimera object at 0x7f870320f0f0>\n",
       " Protein with:\n",
       " Number of residues: 239\n",
       " Number of atoms: 1790,\n",
       " 'comb2_192': <protlego.builder.chimera.Chimera object at 0x7f87033e4358>\n",
       " Protein with:\n",
       " Number of residues: 239\n",
       " Number of atoms: 1791,\n",
       " 'comb2_193': <protlego.builder.chimera.Chimera object at 0x7f8703221b00>\n",
       " Protein with:\n",
       " Number of residues: 239\n",
       " Number of atoms: 1792,\n",
       " 'comb2_202': <protlego.builder.chimera.Chimera object at 0x7f87029bfd68>\n",
       " Protein with:\n",
       " Number of residues: 239\n",
       " Number of atoms: 1805,\n",
       " 'comb2_203': <protlego.builder.chimera.Chimera object at 0x7f8702a87240>\n",
       " Protein with:\n",
       " Number of residues: 239\n",
       " Number of atoms: 1808}"
      ]
     },
     "execution_count": 12,
     "metadata": {},
     "output_type": "execute_result"
    }
   ],
   "source": [
    "chimeras"
   ]
  },
  {
   "cell_type": "markdown",
   "metadata": {},
   "source": [
    "From the Builder class you can plot all the possible chimeras, showing the distance on the y-axis and the fragment of the query relative to the domain in the subject. There are five possible scenarios. For every two fussion point that is under the cutoff distanc (1 Armstrong in this case) we can build chimeras starting from the N-terminus and C-terminus. When the two resulting chimeras at this point present backbone clashes, the plot shows a black dot at this position. If the N-terminus or C-terminus is chimera is buildable, we show that position with a cross in yellow, and red, respectively. In some fusion points, like position 145 in this example, it is possible to build both N-terminus and C-terminus chimeras. "
   ]
  },
  {
   "cell_type": "code",
   "execution_count": 13,
   "metadata": {},
   "outputs": [
    {
     "data": {
      "image/png": "[encoded data removed]",
      "text/plain": [
       "<Figure size 864x648 with 1 Axes>"
      ]
     },
     "metadata": {
      "needs_background": "light"
     },
     "output_type": "display_data"
    }
   ],
   "source": [
    "a.plot_curves(myhit.query)"
   ]
  },
  {
   "cell_type": "markdown",
   "metadata": {},
   "source": [
    "To access the chimeras we can retrieve them from the key value in the dictionary. Combinations starting with 1 come from the query, and combinations starting with 2 come from the subject."
   ]
  },
  {
   "cell_type": "markdown",
   "metadata": {},
   "source": [
    "To view or write the structures out you can store the chimera from the chimeras dictionary in a variable and use the view and the write function."
   ]
  },
  {
   "cell_type": "code",
   "execution_count": 14,
   "metadata": {},
   "outputs": [],
   "source": [
    "mychimera=chimeras['comb2_190']"
   ]
  },
  {
   "cell_type": "code",
   "execution_count": 18,
   "metadata": {},
   "outputs": [],
   "source": [
    "mychimera.view()"
   ]
  },
  {
   "cell_type": "markdown",
   "metadata": {},
   "source": [
    "When we represent the structures we can see the part that comes from each parent is shown in different colors. We can also save the structure as a pdb anytime:"
   ]
  },
  {
   "cell_type": "code",
   "execution_count": 16,
   "metadata": {},
   "outputs": [],
   "source": [
    "mychimera.write('./mychimera.pdb')"
   ]
  },
  {
   "cell_type": "markdown",
   "metadata": {},
   "source": [
    "We can, in fact, visualize all of them at once by looping over the structures:"
   ]
  },
  {
   "cell_type": "code",
   "execution_count": 17,
   "metadata": {},
   "outputs": [],
   "source": [
    "for name, chimera in chimeras.items():\n",
    "    chimera.view(name=name)"
   ]
  },
  {
   "cell_type": "markdown",
   "metadata": {},
   "source": [
    "Note that VMD guesses the bonds between atoms by computing distances. As these structures have not been minimized they do not have idealized bond distances and sometimes VMD cannot guess properly the NewCartoon representation. Choose Licorice Method to represent those cases."
   ]
  }
 ],
 "metadata": {
  "kernelspec": {
   "display_name": "Python 3",
   "language": "python",
   "name": "python3"
  },
  "language_info": {
   "codemirror_mode": {
    "name": "ipython",
    "version": 3
   },
   "file_extension": ".py",
   "mimetype": "text/x-python",
   "name": "python",
   "nbconvert_exporter": "python",
   "pygments_lexer": "ipython3",
   "version": "3.6.7"
  },
  "pycharm": {
   "stem_cell": {
    "cell_type": "raw",
    "metadata": {
     "collapsed": false
    },
    "source": []
   }
  }
 },
 "nbformat": 4,
 "nbformat_minor": 2
}
