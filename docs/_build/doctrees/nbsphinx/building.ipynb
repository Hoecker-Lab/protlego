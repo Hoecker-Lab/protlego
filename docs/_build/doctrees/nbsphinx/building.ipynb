{
 "cells": [
  {
   "cell_type": "markdown",
   "metadata": {},
   "source": [
    "# Building chimeras"
   ]
  },
  {
   "cell_type": "markdown",
   "metadata": {},
   "source": [
    "We can build chimeras from two proteins that present a fragment in common. There are several ways to do this, but we will here build a chimera by aligning the domains (in the fragment they have in common) and finding a crossover point in this region that divides the two parents in two parts. The parts are then shuffled and recombined. "
   ]
  },
  {
   "cell_type": "markdown",
   "metadata": {},
   "source": [
    "First import the protlego module."
   ]
  },
  {
   "cell_type": "code",
   "execution_count": 1,
   "metadata": {},
   "outputs": [
    {
     "name": "stdout",
     "output_type": "stream",
     "text": [
      "/agh/projects/noelia/github/protlego/TMalign\n"
     ]
    }
   ],
   "source": [
    "from protlego.all import *"
   ]
  },
  {
   "cell_type": "markdown",
   "metadata": {},
   "source": [
    "Fetch for example by the HitID from the Fuzzle database, as explained more in detail in the \"Fetching from the Fuzzle database\" section. We are fetching a hit between the P-loop and the Rossmann folds in this case."
   ]
  },
  {
   "cell_type": "code",
   "execution_count": 2,
   "metadata": {},
   "outputs": [],
   "source": [
    "myhit= fetch_id('4413706')"
   ]
  },
  {
   "cell_type": "markdown",
   "metadata": {},
   "source": [
    "### Chimera-Building using Protlego"
   ]
  },
  {
   "cell_type": "markdown",
   "metadata": {},
   "source": [
    "First create an instance of the Builder class."
   ]
  },
  {
   "cell_type": "code",
   "execution_count": 3,
   "metadata": {},
   "outputs": [
    {
     "name": "stderr",
     "output_type": "stream",
     "text": [
      "2020-10-16 12:17:21,548 - protlego - INFO - Attempting to download domain d2dfda1 from the SCOP server\n",
      "2020-10-16 12:17:22,721 - protlego - INFO - File downloaded as /tmp/tmp723odzdf.pdb\n",
      "2020-10-16 12:17:22,721 - protlego - INFO - Attempting to download domain d1wa5a_ from the SCOP server\n",
      "2020-10-16 12:17:23,881 - protlego - INFO - File downloaded as /tmp/tmpz50rsvv3.pdb\n",
      "2020-10-16 12:17:23,883 - protlego - INFO - Loading /tmp/tmp723odzdf.pdb as a chimera object\n",
      "2020-10-16 12:17:23,960 - moleculekit.molecule - WARNING - Alternative atom locations detected. Only altloc A was kept. If you prefer to keep all use the keepaltloc=\"all\" option when reading the file.\n",
      "2020-10-16 12:17:23,964 - protlego - INFO - Loading /tmp/tmpz50rsvv3.pdb as a chimera object\n"
     ]
    }
   ],
   "source": [
    "a=Builder(myhit)"
   ]
  },
  {
   "cell_type": "markdown",
   "metadata": {},
   "source": [
    "You can see the query and the subject of the hit stored in the variables qPDB and sPDB as chimera objects"
   ]
  },
  {
   "cell_type": "code",
   "execution_count": 4,
   "metadata": {},
   "outputs": [
    {
     "data": {
      "text/plain": [
       "<protlego.builder.chimera.Chimera object at 0x7f2f9ff12b70>\n",
       "Protein with:\n",
       "Number of residues: 145\n",
       "Number of atoms: 1054"
      ]
     },
     "execution_count": 4,
     "metadata": {},
     "output_type": "execute_result"
    }
   ],
   "source": [
    "a.qPDB"
   ]
  },
  {
   "cell_type": "markdown",
   "metadata": {},
   "source": [
    "As described in the previous tutorial, myhit includes information about the two proteins that share a fragment, like the scop IDs, length, and TM-align scores,  among others."
   ]
  },
  {
   "cell_type": "code",
   "execution_count": 5,
   "metadata": {},
   "outputs": [
    {
     "name": "stdout",
     "output_type": "stream",
     "text": [
      "Hit between d2dfda1 and d1wa5a_ with probability 81.7 %\n",
      "\n",
      "c.2.1.5\n",
      "c.37.1.8\n",
      "101\n",
      "0.54938\n"
     ]
    }
   ],
   "source": [
    "print(myhit)\n",
    "print(myhit.q_scop_id)\n",
    "print(myhit.s_scop_id)\n",
    "print(myhit.cols)\n",
    "print(myhit.score_tm)"
   ]
  },
  {
   "cell_type": "markdown",
   "metadata": {},
   "source": [
    "Align the sequences of query and subject with HHPred using get_alignment function."
   ]
  },
  {
   "cell_type": "code",
   "execution_count": 6,
   "metadata": {},
   "outputs": [
    {
     "name": "stderr",
     "output_type": "stream",
     "text": [
      "2020-10-16 12:17:24,046 - protlego - INFO - Attempting to download hhs file for d2dfda1 from the FUZZLE server\n",
      "2020-10-16 12:17:24,184 - protlego - INFO - File downloaded as /tmp/tmpg1t9myzv.hhs\n"
     ]
    }
   ],
   "source": [
    "aln=a.get_alignment(myhit.query,myhit.no)"
   ]
  },
  {
   "cell_type": "markdown",
   "metadata": {},
   "source": [
    "Now we can have a look at the sequence alignment:"
   ]
  },
  {
   "cell_type": "code",
   "execution_count": 7,
   "metadata": {},
   "outputs": [
    {
     "name": "stdout",
     "output_type": "stream",
     "text": [
      "KVAVLGASGGIGQ-PLSLLLKNS------------PLVSRLTLYDIAHTPGVAADLSHIETKAAVKGYLGPEQLPDCLKGCDVVVIPAGVPRKPGMTRDDLFNTNATIVATLTAACAQHCPEAMICVIANPVN\n",
      "KLVLVG-DGGTGKTTFVKRHLTGEFEKKYVATLGVEVHPLVFHTNRGPIKFNVWDTAGQEKFGGLRDGY--------YIQAQCAIIMFDVTSRV----------TYKNVPNWHRDLVRVCENIPIVLCGNKVD\n"
     ]
    }
   ],
   "source": [
    "print(aln.query)\n",
    "print(aln.subject)"
   ]
  },
  {
   "cell_type": "markdown",
   "metadata": {},
   "source": [
    "The sequence alignment corresponds to the exact fragment that the two proteins have in common, so it does not include the full protein sequences. Now, we need to map these alignments to the protein structures, because ultimately we need to align the two protein structures in these fragment region. "
   ]
  },
  {
   "cell_type": "markdown",
   "metadata": {},
   "source": [
    "We can thus superimpose the structures with the superimpose_structures() function, and we choose to align the structures using partial alignment. This means that instead of only one, global alignment being produced, rather, several alignments comprising smaller regions of the fragment (10-20 residues) are undertaken in parallel. We do this to provide multiple regions where the two proteins are closer than 1 armstrong in distance, and thus obtain more fusion points for the chimeras."
   ]
  },
  {
   "cell_type": "code",
   "execution_count": 8,
   "metadata": {
    "scrolled": false
   },
   "outputs": [
    {
     "name": "stderr",
     "output_type": "stream",
     "text": [
      "2020-10-16 12:17:25,126 - protlego - INFO - Performing alignment 1 with TMalign\n",
      "/agh/projects/noelia/miniconda3/envs/release/lib/python3.6/site-packages/moleculekit/align.py:16: NumbaPerformanceWarning: np.dot() is faster on contiguous arrays, called on (array(float32, 2d, A), array(float32, 2d, A))\n",
      "  covariance = np.dot(P.T, Q)\n",
      "/agh/projects/noelia/miniconda3/envs/release/lib/python3.6/site-packages/moleculekit/align.py:54: NumbaPerformanceWarning: np.dot() is faster on contiguous arrays, called on (array(float32, 2d, A), array(float32, 2d, A))\n",
      "  all1 = np.dot(all1, rot.T)\n",
      "2020-10-16 12:17:28,332 - protlego - INFO - The RMSD between the fragments is 0.6881077885627747 over 6 alpha carbons\n",
      "2020-10-16 12:17:28,340 - protlego - INFO - Performing alignment 2 with TMalign\n",
      "2020-10-16 12:17:28,420 - protlego - INFO - The RMSD between the fragments is 2.323467254638672 over 6 alpha carbons\n",
      "2020-10-16 12:17:28,430 - protlego - INFO - Performing alignment 3 with TMalign\n",
      "2020-10-16 12:17:28,498 - protlego - INFO - The RMSD between the fragments is 1.180463433265686 over 9 alpha carbons\n",
      "2020-10-16 12:17:28,506 - protlego - INFO - Performing alignment 4 with TMalign\n",
      "2020-10-16 12:17:28,606 - protlego - INFO - The RMSD between the fragments is 10.348337173461914 over 34 alpha carbons\n",
      "2020-10-16 12:17:28,616 - protlego - INFO - Performing alignment 5 with TMalign\n",
      "2020-10-16 12:17:28,708 - protlego - INFO - The RMSD between the fragments is 4.646137714385986 over 17 alpha carbons\n",
      "2020-10-16 12:17:28,717 - protlego - INFO - Performing alignment 6 with TMalign\n",
      "2020-10-16 12:17:28,797 - protlego - INFO - The RMSD between the fragments is 3.5291929244995117 over 29 alpha carbons\n"
     ]
    }
   ],
   "source": [
    "qPDB, sPDB = a.superimpose_structures(aln,partial_alignment=True)"
   ]
  },
  {
   "cell_type": "markdown",
   "metadata": {},
   "source": [
    "The two variables produced are two dictionaries, which contain several molecules, each pair in a geometry that optimizes each of the alignments. We can visualize these structures easily, by simply calling the view() method. A new VMD window will open showing the structure. For example, less visualize the first alignment by slicing the first key in the dictionary:\n"
   ]
  },
  {
   "cell_type": "code",
   "execution_count": 9,
   "metadata": {},
   "outputs": [],
   "source": [
    "qPDB[0].view()"
   ]
  },
  {
   "cell_type": "markdown",
   "metadata": {},
   "source": [
    "The superimpose_structures() command also produces two lists for query and subject. One of them is global_qpairs, which simply contains the indices of the protein that correspond to the srquence aligment. This list is used when we superimpose the structures using a global alignment (all atoms taken into account at once). The other is qpairs, which correspond to the same residues, but they are clustered in smaller regions that will be aligned iteratively if we choose to perform a partial alignment. "
   ]
  },
  {
   "cell_type": "code",
   "execution_count": 10,
   "metadata": {},
   "outputs": [
    {
     "name": "stdout",
     "output_type": "stream",
     "text": [
      "[[14, 23, 30, 35, 42, 50], [59, 65, 69, 73, 81, 85], [94, 101, 109, 115, 123, 131, 139, 148, 156], [162, 169, 177, 184, 190, 201, 209, 216, 224, 236, 244, 252, 257, 267, 274, 281, 285, 292, 297, 302, 310, 318, 324, 334, 342, 351, 358, 364, 369, 374, 381, 390, 394, 406], [472, 480, 489, 493, 499, 507, 514, 521, 528, 536, 543, 548, 552, 559, 566, 577, 586], [673, 681, 686, 693, 701, 708, 713, 720, 728, 735, 740, 745, 751, 756, 765, 775, 781, 788, 797, 802, 810, 818, 824, 831, 839, 844, 852, 859, 866]]\n",
      "[[14, 23, 30, 35, 42, 50, 59, 65, 69, 73, 81, 85, 94, 101, 109, 115, 123, 131, 139, 148, 156, 162, 169, 177, 184, 190, 201, 209, 216, 224, 236, 244, 252, 257, 267, 274, 281, 285, 292, 297, 302, 310, 318, 324, 334, 342, 351, 358, 364, 369, 374, 381, 390, 394, 406, 472, 480, 489, 493, 499, 507, 514, 521, 528, 536, 543, 548, 552, 559, 566, 577, 586, 673, 681, 686, 693, 701, 708, 713, 720, 728, 735, 740, 745, 751, 756, 765, 775, 781, 788, 797, 802, 810, 818, 824, 831, 839, 844, 852, 859, 866]]\n"
     ]
    }
   ],
   "source": [
    "print(a.qpairs)\n",
    "print(a.global_qpairs)"
   ]
  },
  {
   "cell_type": "markdown",
   "metadata": {},
   "source": [
    "Now we can build all the possible chimeras and store them in a dictionary."
   ]
  },
  {
   "cell_type": "code",
   "execution_count": 11,
   "metadata": {},
   "outputs": [],
   "source": [
    "chimeras=a.build_chimeras(partial_alignment=True)"
   ]
  },
  {
   "cell_type": "code",
   "execution_count": 12,
   "metadata": {
    "scrolled": true
   },
   "outputs": [
    {
     "data": {
      "text/plain": [
       "{'comb1_72': <protlego.builder.chimera.Chimera object at 0x7f2f99764f28>\n",
       " Protein with:\n",
       " Number of residues: 163\n",
       " Number of atoms: 1278,\n",
       " 'comb1_73': <protlego.builder.chimera.Chimera object at 0x7f2f997614e0>\n",
       " Protein with:\n",
       " Number of residues: 163\n",
       " Number of atoms: 1279,\n",
       " 'comb1_74': <protlego.builder.chimera.Chimera object at 0x7f2f99769c18>\n",
       " Protein with:\n",
       " Number of residues: 163\n",
       " Number of atoms: 1274,\n",
       " 'comb2_75': <protlego.builder.chimera.Chimera object at 0x7f2f998b8fd0>\n",
       " Protein with:\n",
       " Number of residues: 152\n",
       " Number of atoms: 1166,\n",
       " 'comb1_76': <protlego.builder.chimera.Chimera object at 0x7f2f9973ffd0>\n",
       " Protein with:\n",
       " Number of residues: 163\n",
       " Number of atoms: 1274,\n",
       " 'comb2_76': <protlego.builder.chimera.Chimera object at 0x7f2f998c7fd0>\n",
       " Protein with:\n",
       " Number of residues: 152\n",
       " Number of atoms: 1167,\n",
       " 'comb1_77': <protlego.builder.chimera.Chimera object at 0x7f2f99812fd0>\n",
       " Protein with:\n",
       " Number of residues: 163\n",
       " Number of atoms: 1275,\n",
       " 'comb1_78': <protlego.builder.chimera.Chimera object at 0x7f2f99759fd0>\n",
       " Protein with:\n",
       " Number of residues: 163\n",
       " Number of atoms: 1277,\n",
       " 'comb1_79': <protlego.builder.chimera.Chimera object at 0x7f2f99827b00>\n",
       " Protein with:\n",
       " Number of residues: 163\n",
       " Number of atoms: 1276,\n",
       " 'comb2_80': <protlego.builder.chimera.Chimera object at 0x7f2f9975a048>\n",
       " Protein with:\n",
       " Number of residues: 152\n",
       " Number of atoms: 1165,\n",
       " 'comb1_81': <protlego.builder.chimera.Chimera object at 0x7f2f99735fd0>\n",
       " Protein with:\n",
       " Number of residues: 163\n",
       " Number of atoms: 1275,\n",
       " 'comb2_81': <protlego.builder.chimera.Chimera object at 0x7f2f99757080>\n",
       " Protein with:\n",
       " Number of residues: 152\n",
       " Number of atoms: 1166,\n",
       " 'comb2_103': <protlego.builder.chimera.Chimera object at 0x7f2f9981d048>\n",
       " Protein with:\n",
       " Number of residues: 142\n",
       " Number of atoms: 1101,\n",
       " 'comb2_104': <protlego.builder.chimera.Chimera object at 0x7f2f99823208>\n",
       " Protein with:\n",
       " Number of residues: 142\n",
       " Number of atoms: 1103,\n",
       " 'comb2_105': <protlego.builder.chimera.Chimera object at 0x7f2f997f8048>\n",
       " Protein with:\n",
       " Number of residues: 142\n",
       " Number of atoms: 1104,\n",
       " 'comb2_106': <protlego.builder.chimera.Chimera object at 0x7f2f997fafd0>\n",
       " Protein with:\n",
       " Number of residues: 142\n",
       " Number of atoms: 1110,\n",
       " 'comb2_107': <protlego.builder.chimera.Chimera object at 0x7f2f99ba1940>\n",
       " Protein with:\n",
       " Number of residues: 142\n",
       " Number of atoms: 1113,\n",
       " 'comb2_109': <protlego.builder.chimera.Chimera object at 0x7f2f99b77fd0>\n",
       " Protein with:\n",
       " Number of residues: 142\n",
       " Number of atoms: 1122,\n",
       " 'comb2_112': <protlego.builder.chimera.Chimera object at 0x7f2f99b85ba8>\n",
       " Protein with:\n",
       " Number of residues: 142\n",
       " Number of atoms: 1128,\n",
       " 'comb2_113': <protlego.builder.chimera.Chimera object at 0x7f2f99b9e7f0>\n",
       " Protein with:\n",
       " Number of residues: 142\n",
       " Number of atoms: 1125,\n",
       " 'comb2_118': <protlego.builder.chimera.Chimera object at 0x7f2f99b8efd0>\n",
       " Protein with:\n",
       " Number of residues: 142\n",
       " Number of atoms: 1128}"
      ]
     },
     "execution_count": 12,
     "metadata": {},
     "output_type": "execute_result"
    }
   ],
   "source": [
    "chimeras"
   ]
  },
  {
   "cell_type": "markdown",
   "metadata": {},
   "source": [
    "From the Builder class you can plot all the possible chimeras, showing the distance on the y-axis and the fragment of the query relative to the domain in the subject. There are five possible scenarios. For every two fussion point that is under the cutoff distanc (1 Armstrong in this case) we can build chimeras starting from the N-terminus and C-terminus. When the two resulting chimeras at this point present backbone clashes, the plot shows a black dot at this position. If the N-terminus or C-terminus is chimera is buildable, we show that position with a cross in yellow, and red, respectively. In some fusion points, like position 145 in this example, it is possible to build both N-terminus and C-terminus chimeras. "
   ]
  },
  {
   "cell_type": "code",
   "execution_count": 13,
   "metadata": {},
   "outputs": [
    {
     "data": {
      "image/png": "[encoded data removed]",
      "text/plain": [
       "<Figure size 864x648 with 1 Axes>"
      ]
     },
     "metadata": {
      "needs_background": "light"
     },
     "output_type": "display_data"
    }
   ],
   "source": [
    "a.plot_curves(myhit.query)"
   ]
  },
  {
   "cell_type": "markdown",
   "metadata": {},
   "source": [
    "To access the chimeras we can retrieve them from the key value in the dictionary. Combinations starting with 1 come from the query, and combinations starting with 2 come from the subject."
   ]
  },
  {
   "cell_type": "markdown",
   "metadata": {},
   "source": [
    "To view or write the structures out you can store the chimera from the chimeras dictionary in a variable and use the view and the write function."
   ]
  },
  {
   "cell_type": "code",
   "execution_count": 14,
   "metadata": {},
   "outputs": [],
   "source": [
    "mychimera=chimeras['comb1_72']"
   ]
  },
  {
   "cell_type": "code",
   "execution_count": 15,
   "metadata": {},
   "outputs": [],
   "source": [
    "mychimera.view()"
   ]
  },
  {
   "cell_type": "markdown",
   "metadata": {},
   "source": [
    "When we represent the structures we can see the part that comes from each parent is shown in different colors. We can also save the structure as a pdb anytime:"
   ]
  },
  {
   "cell_type": "code",
   "execution_count": 16,
   "metadata": {},
   "outputs": [],
   "source": [
    "mychimera.write('./mychimera.pdb')"
   ]
  },
  {
   "cell_type": "markdown",
   "metadata": {},
   "source": [
    "We can, in fact, visualize all of them at once by looping over the structures:"
   ]
  },
  {
   "cell_type": "code",
   "execution_count": 17,
   "metadata": {},
   "outputs": [],
   "source": [
    "for name, chimera in chimeras.items():\n",
    "    chimera.view(name=name)"
   ]
  },
  {
   "cell_type": "markdown",
   "metadata": {},
   "source": [
    "Note that VMD guesses the bonds between atoms by computing distances. As these structures have not been minimized they do not have idealized bond distances and sometimes VMD cannot guess properly the NewCartoon representation. Choose Licorice Method to represent those cases."
   ]
  }
 ],
 "metadata": {
  "kernelspec": {
   "display_name": "Python 3",
   "language": "python",
   "name": "python3"
  },
  "language_info": {
   "codemirror_mode": {
    "name": "ipython",
    "version": 3
   },
   "file_extension": ".py",
   "mimetype": "text/x-python",
   "name": "python",
   "nbconvert_exporter": "python",
   "pygments_lexer": "ipython3",
   "version": "3.6.7"
  },
  "pycharm": {
   "stem_cell": {
    "cell_type": "raw",
    "metadata": {
     "collapsed": false
    },
    "source": []
   }
  }
 },
 "nbformat": 4,
 "nbformat_minor": 2
}
