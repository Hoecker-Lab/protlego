{
 "cells": [
  {
   "cell_type": "markdown",
   "metadata": {},
   "source": [
    "# Building chimeras"
   ]
  },
  {
   "cell_type": "markdown",
   "metadata": {},
   "source": [
    "We can build chimeras from two proteins that present a fragment in common. There are several ways to do this, but we will here build a chimera by aligning the domains (in the fragment they have in common) and finding a crossover point in this region that divides the two parents in two parts. The parts are then shuffled and recombined. "
   ]
  },
  {
   "cell_type": "markdown",
   "metadata": {},
   "source": [
    "First import the protlego module."
   ]
  },
  {
   "cell_type": "code",
   "execution_count": 1,
   "metadata": {},
   "outputs": [
    {
     "name": "stderr",
     "output_type": "stream",
     "text": [
      "2023-09-11 14:02:40,024 - numexpr.utils - INFO - Note: NumExpr detected 12 cores but \"NUMEXPR_MAX_THREADS\" not set, so enforcing safe limit of 8.\n",
      "2023-09-11 14:02:40,025 - numexpr.utils - INFO - NumExpr defaulting to 8 threads.\n",
      "beignet-opencl-icd: no supported GPU found, this is probably the wrong opencl-icd package for this hardware\n",
      "(If you have multiple ICDs installed and OpenCL works, you can ignore this message)\n",
      "beignet-opencl-icd: no supported GPU found, this is probably the wrong opencl-icd package for this hardware\n",
      "(If you have multiple ICDs installed and OpenCL works, you can ignore this message)\n"
     ]
    }
   ],
   "source": [
    "import sys\n",
    "sys.path.append(\"YOUR_PATH_TO_PROTLEGO_FOLDER\")\n",
    "\n",
    "from protlego.all import *"
   ]
  },
  {
   "cell_type": "markdown",
   "metadata": {},
   "source": [
    "Fetch for example by the HitID from the Fuzzle database, as explained more in detail in the \"Fetching from the Fuzzle database\" section. We are fetching a hit between the P-loop and the Rossmann folds in this case."
   ]
  },
  {
   "cell_type": "code",
   "execution_count": 2,
   "metadata": {},
   "outputs": [],
   "source": [
    "myhit= fetch_id('4413706')"
   ]
  },
  {
   "cell_type": "markdown",
   "metadata": {},
   "source": [
    "### Chimera-Building using Protlego"
   ]
  },
  {
   "cell_type": "markdown",
   "metadata": {},
   "source": [
    "First create an instance of the Builder class."
   ]
  },
  {
   "cell_type": "code",
   "execution_count": 3,
   "metadata": {},
   "outputs": [
    {
     "name": "stderr",
     "output_type": "stream",
     "text": [
      "2023-09-11 14:02:57,272 - protlego - INFO - Attempting to download domain d2dfda1 from the SCOP server\n",
      "2023-09-11 14:02:58,480 - protlego - INFO - File downloaded as /tmp/user/1307247/tmp1a6cajcg.pdb\n",
      "2023-09-11 14:02:58,480 - protlego - INFO - Attempting to download domain d1wa5a_ from the SCOP server\n",
      "2023-09-11 14:02:59,689 - protlego - INFO - File downloaded as /tmp/user/1307247/tmp49yraku9.pdb\n",
      "2023-09-11 14:02:59,690 - protlego - INFO - Loading /tmp/user/1307247/tmp1a6cajcg.pdb as a chimera object\n",
      "2023-09-11 14:03:00,273 - moleculekit.molecule - WARNING - Alternative atom locations detected. Only altloc A was kept. If you prefer to keep all use the keepaltloc=\"all\" option when reading the file.\n",
      "2023-09-11 14:03:00,276 - protlego - INFO - Loading /tmp/user/1307247/tmp49yraku9.pdb as a chimera object\n"
     ]
    }
   ],
   "source": [
    "a=Builder(myhit)"
   ]
  },
  {
   "cell_type": "markdown",
   "metadata": {},
   "source": [
    "You can see the query and the subject of the hit stored in the variables qPDB and sPDB as chimera objects"
   ]
  },
  {
   "cell_type": "code",
   "execution_count": 4,
   "metadata": {},
   "outputs": [
    {
     "data": {
      "text/plain": [
       "<protlego.builder.chimera.Chimera object at 0x7f3480686df0>\n",
       "Protein with:\n",
       "Number of residues: 145\n",
       "Number of atoms: 1054"
      ]
     },
     "execution_count": 4,
     "metadata": {},
     "output_type": "execute_result"
    }
   ],
   "source": [
    "a.qPDB"
   ]
  },
  {
   "cell_type": "markdown",
   "metadata": {},
   "source": [
    "As described in the previous tutorial, myhit includes information about the two proteins that share a fragment, like the scop IDs, length, and TM-align scores,  among others."
   ]
  },
  {
   "cell_type": "code",
   "execution_count": 5,
   "metadata": {},
   "outputs": [
    {
     "name": "stdout",
     "output_type": "stream",
     "text": [
      "Hit between d2dfda1 and d1wa5a_ with probability 81.7 %\n",
      "\n",
      "c.2.1.5\n",
      "c.37.1.8\n",
      "101\n",
      "0.54938\n"
     ]
    }
   ],
   "source": [
    "print(myhit)\n",
    "print(myhit.q_scop_id)\n",
    "print(myhit.s_scop_id)\n",
    "print(myhit.cols)\n",
    "print(myhit.score_tm)"
   ]
  },
  {
   "cell_type": "markdown",
   "metadata": {},
   "source": [
    "Align the sequences of query and subject with HHPred using get_alignment function."
   ]
  },
  {
   "cell_type": "code",
   "execution_count": 6,
   "metadata": {},
   "outputs": [
    {
     "name": "stderr",
     "output_type": "stream",
     "text": [
      "2023-09-11 14:03:04,865 - protlego - INFO - Attempting to download hhs file for d2dfda1 from the FUZZLE server\n",
      "2023-09-11 14:03:05,009 - protlego - INFO - File downloaded as /tmp/user/1307247/tmpfb_4rlw5.hhs\n"
     ]
    }
   ],
   "source": [
    "aln=a.get_alignment(myhit.query,myhit.no)"
   ]
  },
  {
   "cell_type": "markdown",
   "metadata": {},
   "source": [
    "Now we can have a look at the sequence alignment:"
   ]
  },
  {
   "cell_type": "code",
   "execution_count": 7,
   "metadata": {},
   "outputs": [
    {
     "name": "stdout",
     "output_type": "stream",
     "text": [
      "KVAVLGASGGIGQ-PLSLLLKNS------------PLVSRLTLYDIAHTPGVAADLSHIETKAAVKGYLGPEQLPDCLKGCDVVVIPAGVPRKPGMTRDDLFNTNATIVATLTAACAQHCPEAMICVIANPVN\n",
      "KLVLVG-DGGTGKTTFVKRHLTGEFEKKYVATLGVEVHPLVFHTNRGPIKFNVWDTAGQEKFGGLRDGY--------YIQAQCAIIMFDVTSRV----------TYKNVPNWHRDLVRVCENIPIVLCGNKVD\n"
     ]
    }
   ],
   "source": [
    "print(aln.query)\n",
    "print(aln.subject)"
   ]
  },
  {
   "cell_type": "markdown",
   "metadata": {},
   "source": [
    "The sequence alignment corresponds to the exact fragment that the two proteins have in common, so it does not include the full protein sequences. Now, we need to map these alignments to the protein structures, because ultimately we need to align the two protein structures in these fragment region. "
   ]
  },
  {
   "cell_type": "markdown",
   "metadata": {},
   "source": [
    "We can thus superimpose the structures with the superimpose_structures() function, and we choose to align the structures using partial alignment. This means that instead of only one, global alignment being produced, rather, several alignments comprising smaller regions of the fragment (10-20 residues) are undertaken in parallel. We do this to provide multiple regions where the two proteins are closer than 1 armstrong in distance, and thus obtain more fusion points for the chimeras."
   ]
  },
  {
   "cell_type": "code",
   "execution_count": 8,
   "metadata": {},
   "outputs": [
    {
     "name": "stderr",
     "output_type": "stream",
     "text": [
      "2023-09-11 14:03:09,676 - protlego - INFO - Performing alignment 1 with TMalign\n",
      "2023-09-11 14:03:09,776 - protlego - INFO - The RMSD between the fragments is 0.6881078481674194 over 6 alpha carbons\n",
      "2023-09-11 14:03:09,781 - protlego - INFO - Performing alignment 2 with TMalign\n",
      "2023-09-11 14:03:09,842 - protlego - INFO - The RMSD between the fragments is 2.323467254638672 over 6 alpha carbons\n",
      "2023-09-11 14:03:09,848 - protlego - INFO - Performing alignment 3 with TMalign\n",
      "2023-09-11 14:03:09,911 - protlego - INFO - The RMSD between the fragments is 1.180463194847107 over 9 alpha carbons\n",
      "2023-09-11 14:03:09,917 - protlego - INFO - Performing alignment 4 with TMalign\n",
      "2023-09-11 14:03:09,995 - protlego - INFO - The RMSD between the fragments is 10.348334312438965 over 34 alpha carbons\n",
      "2023-09-11 14:03:10,003 - protlego - INFO - Performing alignment 5 with TMalign\n",
      "2023-09-11 14:03:10,069 - protlego - INFO - The RMSD between the fragments is 4.646137714385986 over 17 alpha carbons\n",
      "2023-09-11 14:03:10,076 - protlego - INFO - Performing alignment 6 with TMalign\n",
      "2023-09-11 14:03:10,154 - protlego - INFO - The RMSD between the fragments is 3.5291926860809326 over 29 alpha carbons\n"
     ]
    }
   ],
   "source": [
    "qPDB, sPDB = a.superimpose_structures(aln,partial_alignment=True)"
   ]
  },
  {
   "cell_type": "markdown",
   "metadata": {},
   "source": [
    "The two variables produced are two dictionaries, which contain several molecules, each pair in a geometry that optimizes each of the alignments. We can visualize these structures easily, by simply calling the view() method. A new VMD window will open showing the structure. For example, less visualize the first alignment by slicing the first key in the dictionary:\n"
   ]
  },
  {
   "cell_type": "code",
   "execution_count": 9,
   "metadata": {},
   "outputs": [],
   "source": [
    "qPDB[0].view()"
   ]
  },
  {
   "cell_type": "markdown",
   "metadata": {},
   "source": [
    "The superimpose_structures() command also produces two lists for query and subject. One of them is global_qpairs, which simply contains the indices of the protein that correspond to the srquence aligment. This list is used when we superimpose the structures using a global alignment (all atoms taken into account at once). The other is qpairs, which correspond to the same residues, but they are clustered in smaller regions that will be aligned iteratively if we choose to perform a partial alignment. "
   ]
  },
  {
   "cell_type": "code",
   "execution_count": 10,
   "metadata": {},
   "outputs": [
    {
     "name": "stdout",
     "output_type": "stream",
     "text": [
      "[[14, 23, 30, 35, 42, 50], [59, 65, 69, 73, 81, 85], [94, 101, 109, 115, 123, 131, 139, 148, 156], [162, 169, 177, 184, 190, 201, 209, 216, 224, 236, 244, 252, 257, 267, 274, 281, 285, 292, 297, 302, 310, 318, 324, 334, 342, 351, 358, 364, 369, 374, 381, 390, 394, 406], [472, 480, 489, 493, 499, 507, 514, 521, 528, 536, 543, 548, 552, 559, 566, 577, 586], [673, 681, 686, 693, 701, 708, 713, 720, 728, 735, 740, 745, 751, 756, 765, 775, 781, 788, 797, 802, 810, 818, 824, 831, 839, 844, 852, 859, 866]]\n",
      "[[14, 23, 30, 35, 42, 50, 59, 65, 69, 73, 81, 85, 94, 101, 109, 115, 123, 131, 139, 148, 156, 162, 169, 177, 184, 190, 201, 209, 216, 224, 236, 244, 252, 257, 267, 274, 281, 285, 292, 297, 302, 310, 318, 324, 334, 342, 351, 358, 364, 369, 374, 381, 390, 394, 406, 472, 480, 489, 493, 499, 507, 514, 521, 528, 536, 543, 548, 552, 559, 566, 577, 586, 673, 681, 686, 693, 701, 708, 713, 720, 728, 735, 740, 745, 751, 756, 765, 775, 781, 788, 797, 802, 810, 818, 824, 831, 839, 844, 852, 859, 866]]\n"
     ]
    }
   ],
   "source": [
    "print(a.qpairs)\n",
    "print(a.global_qpairs)"
   ]
  },
  {
   "cell_type": "markdown",
   "metadata": {},
   "source": [
    "Now we can build all the possible chimeras and store them in a dictionary."
   ]
  },
  {
   "cell_type": "code",
   "execution_count": 11,
   "metadata": {},
   "outputs": [],
   "source": [
    "chimeras=a.build_recomb(partial_alignment=True)"
   ]
  },
  {
   "cell_type": "code",
   "execution_count": 12,
   "metadata": {
    "scrolled": true
   },
   "outputs": [
    {
     "data": {
      "text/plain": [
       "{'comb1_72': <protlego.builder.chimera.Chimera object at 0x7f33ee7559a0>\n",
       " Protein with:\n",
       " Number of residues: 163\n",
       " Number of atoms: 1278,\n",
       " 'comb1_73': <protlego.builder.chimera.Chimera object at 0x7f33ee657b20>\n",
       " Protein with:\n",
       " Number of residues: 163\n",
       " Number of atoms: 1279,\n",
       " 'comb1_74': <protlego.builder.chimera.Chimera object at 0x7f33fe7fa4c0>\n",
       " Protein with:\n",
       " Number of residues: 163\n",
       " Number of atoms: 1274,\n",
       " 'comb2_75': <protlego.builder.chimera.Chimera object at 0x7f33fdc7b6a0>\n",
       " Protein with:\n",
       " Number of residues: 152\n",
       " Number of atoms: 1166,\n",
       " 'comb1_76': <protlego.builder.chimera.Chimera object at 0x7f33fdfe75e0>\n",
       " Protein with:\n",
       " Number of residues: 163\n",
       " Number of atoms: 1274,\n",
       " 'comb2_76': <protlego.builder.chimera.Chimera object at 0x7f33fdf54370>\n",
       " Protein with:\n",
       " Number of residues: 152\n",
       " Number of atoms: 1167,\n",
       " 'comb1_77': <protlego.builder.chimera.Chimera object at 0x7f33fe6f64c0>\n",
       " Protein with:\n",
       " Number of residues: 163\n",
       " Number of atoms: 1275,\n",
       " 'comb1_78': <protlego.builder.chimera.Chimera object at 0x7f33ee6b7460>\n",
       " Protein with:\n",
       " Number of residues: 163\n",
       " Number of atoms: 1277,\n",
       " 'comb1_79': <protlego.builder.chimera.Chimera object at 0x7f33fe6f6400>\n",
       " Protein with:\n",
       " Number of residues: 163\n",
       " Number of atoms: 1276,\n",
       " 'comb2_80': <protlego.builder.chimera.Chimera object at 0x7f3480686370>\n",
       " Protein with:\n",
       " Number of residues: 152\n",
       " Number of atoms: 1165,\n",
       " 'comb1_81': <protlego.builder.chimera.Chimera object at 0x7f33ee657f10>\n",
       " Protein with:\n",
       " Number of residues: 163\n",
       " Number of atoms: 1275,\n",
       " 'comb2_81': <protlego.builder.chimera.Chimera object at 0x7f33ee0b2670>\n",
       " Protein with:\n",
       " Number of residues: 152\n",
       " Number of atoms: 1166,\n",
       " 'comb2_103': <protlego.builder.chimera.Chimera object at 0x7f33ee0b2ee0>\n",
       " Protein with:\n",
       " Number of residues: 142\n",
       " Number of atoms: 1101,\n",
       " 'comb2_104': <protlego.builder.chimera.Chimera object at 0x7f33ee760100>\n",
       " Protein with:\n",
       " Number of residues: 142\n",
       " Number of atoms: 1103,\n",
       " 'comb2_105': <protlego.builder.chimera.Chimera object at 0x7f33ee0a83d0>\n",
       " Protein with:\n",
       " Number of residues: 142\n",
       " Number of atoms: 1104,\n",
       " 'comb2_106': <protlego.builder.chimera.Chimera object at 0x7f33ee0a8c40>\n",
       " Protein with:\n",
       " Number of residues: 142\n",
       " Number of atoms: 1110,\n",
       " 'comb2_107': <protlego.builder.chimera.Chimera object at 0x7f33ee0820d0>\n",
       " Protein with:\n",
       " Number of residues: 142\n",
       " Number of atoms: 1113,\n",
       " 'comb2_109': <protlego.builder.chimera.Chimera object at 0x7f33ee08e160>\n",
       " Protein with:\n",
       " Number of residues: 142\n",
       " Number of atoms: 1122,\n",
       " 'comb2_112': <protlego.builder.chimera.Chimera object at 0x7f33ee09dd00>\n",
       " Protein with:\n",
       " Number of residues: 142\n",
       " Number of atoms: 1128,\n",
       " 'comb2_113': <protlego.builder.chimera.Chimera object at 0x7f33ee09d2e0>\n",
       " Protein with:\n",
       " Number of residues: 142\n",
       " Number of atoms: 1125,\n",
       " 'comb2_118': <protlego.builder.chimera.Chimera object at 0x7f33ee09d550>\n",
       " Protein with:\n",
       " Number of residues: 142\n",
       " Number of atoms: 1128}"
      ]
     },
     "execution_count": 12,
     "metadata": {},
     "output_type": "execute_result"
    }
   ],
   "source": [
    "chimeras"
   ]
  },
  {
   "cell_type": "markdown",
   "metadata": {},
   "source": [
    "From the Builder class you can plot all the possible chimeras, showing the distance on the y-axis and the fragment of the query relative to the domain in the subject. There are five possible scenarios. For every two fussion point that is under the cutoff distanc (1 Armstrong in this case) we can build chimeras starting from the N-terminus and C-terminus. When the two resulting chimeras at this point present backbone clashes, the plot shows a black dot at this position. If the N-terminus or C-terminus is chimera is buildable, we show that position with a cross in yellow, and red, respectively. In some fusion points, like position 145 in this example, it is possible to build both N-terminus and C-terminus chimeras. "
   ]
  },
  {
   "cell_type": "code",
   "execution_count": 13,
   "metadata": {},
   "outputs": [
    {
     "data": {
      "image/png": "[encoded data removed]",
      "text/plain": [
       "<Figure size 864x648 with 1 Axes>"
      ]
     },
     "metadata": {
      "needs_background": "light"
     },
     "output_type": "display_data"
    }
   ],
   "source": [
    "a.plot_curves(myhit.query)"
   ]
  },
  {
   "cell_type": "markdown",
   "metadata": {},
   "source": [
    "To access the chimeras we can retrieve them from the key value in the dictionary. Combinations starting with 1 come from the query, and combinations starting with 2 come from the subject."
   ]
  },
  {
   "cell_type": "markdown",
   "metadata": {},
   "source": [
    "To view or write the structures out you can store the chimera from the chimeras dictionary in a variable and use the view and the write function."
   ]
  },
  {
   "cell_type": "code",
   "execution_count": 14,
   "metadata": {},
   "outputs": [],
   "source": [
    "mychimera=chimeras['comb1_72']"
   ]
  },
  {
   "cell_type": "code",
   "execution_count": 15,
   "metadata": {},
   "outputs": [],
   "source": [
    "mychimera.view()"
   ]
  },
  {
   "cell_type": "markdown",
   "metadata": {},
   "source": [
    "When we represent the structures we can see the part that comes from each parent is shown in different colors. We can also save the structure as a pdb anytime:"
   ]
  },
  {
   "cell_type": "code",
   "execution_count": 16,
   "metadata": {},
   "outputs": [],
   "source": [
    "mychimera.write('./mychimera.pdb')"
   ]
  },
  {
   "cell_type": "markdown",
   "metadata": {},
   "source": [
    "We can, in fact, visualize all of them at once by looping over the structures:"
   ]
  },
  {
   "cell_type": "code",
   "execution_count": 17,
   "metadata": {},
   "outputs": [],
   "source": [
    "for name, chimera in chimeras.items():\n",
    "    chimera.view(name=name)"
   ]
  },
  {
   "cell_type": "markdown",
   "metadata": {},
   "source": [
    "Note that VMD guesses the bonds between atoms by computing distances. As these structures have not been minimized they do not have idealized bond distances and sometimes VMD cannot guess properly the NewCartoon representation. Choose Licorice Method to represent those cases."
   ]
  },
  {
   "cell_type": "markdown",
   "metadata": {},
   "source": [
    "It is also possible to make chimeras using the second function called build_insert. All the steps to generate chimeras by fragment insertion are the same. Though, it is recommended to use global sequence alignment to generate chimeras using this function. This maximises the number of chimeras generated as an output. An example run of this function is shown below."
   ]
  },
  {
   "cell_type": "code",
   "execution_count": 18,
   "metadata": {},
   "outputs": [
    {
     "name": "stderr",
     "output_type": "stream",
     "text": [
      "2023-09-11 14:09:25,314 - protlego - INFO - Attempting to download domain d2dfda1 from the SCOP server\n",
      "2023-09-11 14:09:26,486 - protlego - INFO - File downloaded as /tmp/user/1307247/tmp25riuevt.pdb\n",
      "2023-09-11 14:09:26,487 - protlego - INFO - Attempting to download domain d1wa5a_ from the SCOP server\n",
      "2023-09-11 14:09:27,655 - protlego - INFO - File downloaded as /tmp/user/1307247/tmp6jo79llt.pdb\n",
      "2023-09-11 14:09:27,656 - protlego - INFO - Loading /tmp/user/1307247/tmp25riuevt.pdb as a chimera object\n",
      "2023-09-11 14:09:27,688 - moleculekit.molecule - WARNING - Alternative atom locations detected. Only altloc A was kept. If you prefer to keep all use the keepaltloc=\"all\" option when reading the file.\n",
      "2023-09-11 14:09:27,689 - protlego - INFO - Loading /tmp/user/1307247/tmp6jo79llt.pdb as a chimera object\n",
      "2023-09-11 14:09:27,722 - protlego - INFO - Attempting to download hhs file for d2dfda1 from the FUZZLE server\n",
      "2023-09-11 14:09:27,859 - protlego - INFO - File downloaded as /tmp/user/1307247/tmpzxat06ze.hhs\n",
      "2023-09-11 14:09:28,537 - protlego - INFO - Performing alignment 1 with TMalign\n",
      "2023-09-11 14:09:28,657 - protlego - INFO - The RMSD between the fragments is 12.112655639648438 over 101 alpha carbons\n"
     ]
    }
   ],
   "source": [
    "b=Builder(myhit)\n",
    "alnt=b.get_alignment(myhit.query,myhit.no)\n",
    "qPDB, sPDB = b.superimpose_structures(alnt,partial_alignment=False)"
   ]
  },
  {
   "cell_type": "markdown",
   "metadata": {},
   "source": [
    "In the above steps note that partial_alignment is set to False.\n",
    "\n",
    "Function below generates chimeras using the new function."
   ]
  },
  {
   "cell_type": "code",
   "execution_count": 20,
   "metadata": {},
   "outputs": [],
   "source": [
    "in_chimeras=b.build_insert(partial_alignment=False)"
   ]
  },
  {
   "cell_type": "code",
   "execution_count": 21,
   "metadata": {},
   "outputs": [
    {
     "data": {
      "text/plain": [
       "{'comb1_4_73': <protlego.builder.chimera.Chimera object at 0x7f33ec1f4b50>\n",
       " Protein with:\n",
       " Number of residues: 149\n",
       " Number of atoms: 1137,\n",
       " 'comb1_4_74': <protlego.builder.chimera.Chimera object at 0x7f33ec2e3a00>\n",
       " Protein with:\n",
       " Number of residues: 149\n",
       " Number of atoms: 1136,\n",
       " 'comb1_4_77': <protlego.builder.chimera.Chimera object at 0x7f33ec24a640>\n",
       " Protein with:\n",
       " Number of residues: 149\n",
       " Number of atoms: 1134,\n",
       " 'comb1_4_78': <protlego.builder.chimera.Chimera object at 0x7f33ec26a580>\n",
       " Protein with:\n",
       " Number of residues: 149\n",
       " Number of atoms: 1135,\n",
       " 'comb2_7_77': <protlego.builder.chimera.Chimera object at 0x7f33ec283e20>\n",
       " Protein with:\n",
       " Number of residues: 166\n",
       " Number of atoms: 1306,\n",
       " 'comb1_4_79': <protlego.builder.chimera.Chimera object at 0x7f33ec1f42b0>\n",
       " Protein with:\n",
       " Number of residues: 149\n",
       " Number of atoms: 1135,\n",
       " 'comb1_4_91': <protlego.builder.chimera.Chimera object at 0x7f33ec24adf0>\n",
       " Protein with:\n",
       " Number of residues: 139\n",
       " Number of atoms: 1071,\n",
       " 'comb1_4_92': <protlego.builder.chimera.Chimera object at 0x7f33ec24a6d0>\n",
       " Protein with:\n",
       " Number of residues: 139\n",
       " Number of atoms: 1071,\n",
       " 'comb1_4_93': <protlego.builder.chimera.Chimera object at 0x7f33ec2ee190>\n",
       " Protein with:\n",
       " Number of residues: 139\n",
       " Number of atoms: 1073,\n",
       " 'comb1_4_95': <protlego.builder.chimera.Chimera object at 0x7f33ec196fd0>\n",
       " Protein with:\n",
       " Number of residues: 139\n",
       " Number of atoms: 1080,\n",
       " 'comb1_4_96': <protlego.builder.chimera.Chimera object at 0x7f33ec191640>\n",
       " Protein with:\n",
       " Number of residues: 139\n",
       " Number of atoms: 1083,\n",
       " 'comb1_4_98': <protlego.builder.chimera.Chimera object at 0x7f33ec1f83d0>\n",
       " Protein with:\n",
       " Number of residues: 139\n",
       " Number of atoms: 1092,\n",
       " 'comb1_4_101': <protlego.builder.chimera.Chimera object at 0x7f33ec1da610>\n",
       " Protein with:\n",
       " Number of residues: 139\n",
       " Number of atoms: 1098,\n",
       " 'comb1_4_102': <protlego.builder.chimera.Chimera object at 0x7f33ec2224f0>\n",
       " Protein with:\n",
       " Number of residues: 139\n",
       " Number of atoms: 1095,\n",
       " 'comb1_4_107': <protlego.builder.chimera.Chimera object at 0x7f33ec191070>\n",
       " Protein with:\n",
       " Number of residues: 139\n",
       " Number of atoms: 1098,\n",
       " 'comb1_4_109': <protlego.builder.chimera.Chimera object at 0x7f33ec196670>\n",
       " Protein with:\n",
       " Number of residues: 139\n",
       " Number of atoms: 1099,\n",
       " 'comb1_5_73': <protlego.builder.chimera.Chimera object at 0x7f33ec2f2250>\n",
       " Protein with:\n",
       " Number of residues: 149\n",
       " Number of atoms: 1136,\n",
       " 'comb1_5_74': <protlego.builder.chimera.Chimera object at 0x7f33ec185640>\n",
       " Protein with:\n",
       " Number of residues: 149\n",
       " Number of atoms: 1135,\n",
       " 'comb1_5_77': <protlego.builder.chimera.Chimera object at 0x7f33ec27b7c0>\n",
       " Protein with:\n",
       " Number of residues: 149\n",
       " Number of atoms: 1133,\n",
       " 'comb1_5_78': <protlego.builder.chimera.Chimera object at 0x7f33ec182460>\n",
       " Protein with:\n",
       " Number of residues: 149\n",
       " Number of atoms: 1134,\n",
       " 'comb1_5_79': <protlego.builder.chimera.Chimera object at 0x7f33ec182b80>\n",
       " Protein with:\n",
       " Number of residues: 149\n",
       " Number of atoms: 1134,\n",
       " 'comb1_5_91': <protlego.builder.chimera.Chimera object at 0x7f33ec7a92b0>\n",
       " Protein with:\n",
       " Number of residues: 139\n",
       " Number of atoms: 1070,\n",
       " 'comb1_5_92': <protlego.builder.chimera.Chimera object at 0x7f33ec185040>\n",
       " Protein with:\n",
       " Number of residues: 139\n",
       " Number of atoms: 1070,\n",
       " 'comb1_5_93': <protlego.builder.chimera.Chimera object at 0x7f33ec2f2370>\n",
       " Protein with:\n",
       " Number of residues: 139\n",
       " Number of atoms: 1072,\n",
       " 'comb1_5_95': <protlego.builder.chimera.Chimera object at 0x7f33ec222850>\n",
       " Protein with:\n",
       " Number of residues: 139\n",
       " Number of atoms: 1079,\n",
       " 'comb1_5_96': <protlego.builder.chimera.Chimera object at 0x7f33ec19fd60>\n",
       " Protein with:\n",
       " Number of residues: 139\n",
       " Number of atoms: 1082,\n",
       " 'comb1_5_98': <protlego.builder.chimera.Chimera object at 0x7f33ec26a640>\n",
       " Protein with:\n",
       " Number of residues: 139\n",
       " Number of atoms: 1091,\n",
       " 'comb1_5_101': <protlego.builder.chimera.Chimera object at 0x7f33ec259040>\n",
       " Protein with:\n",
       " Number of residues: 139\n",
       " Number of atoms: 1097,\n",
       " 'comb1_5_102': <protlego.builder.chimera.Chimera object at 0x7f33ec26a190>\n",
       " Protein with:\n",
       " Number of residues: 139\n",
       " Number of atoms: 1094,\n",
       " 'comb1_5_107': <protlego.builder.chimera.Chimera object at 0x7f33ec1b9dc0>\n",
       " Protein with:\n",
       " Number of residues: 139\n",
       " Number of atoms: 1097,\n",
       " 'comb1_5_109': <protlego.builder.chimera.Chimera object at 0x7f33ec19f760>\n",
       " Protein with:\n",
       " Number of residues: 139\n",
       " Number of atoms: 1098,\n",
       " 'comb1_6_73': <protlego.builder.chimera.Chimera object at 0x7f33ee38b220>\n",
       " Protein with:\n",
       " Number of residues: 149\n",
       " Number of atoms: 1134,\n",
       " 'comb1_6_74': <protlego.builder.chimera.Chimera object at 0x7f33ec1f8e50>\n",
       " Protein with:\n",
       " Number of residues: 149\n",
       " Number of atoms: 1133,\n",
       " 'comb1_6_77': <protlego.builder.chimera.Chimera object at 0x7f33ec259430>\n",
       " Protein with:\n",
       " Number of residues: 149\n",
       " Number of atoms: 1131,\n",
       " 'comb1_6_78': <protlego.builder.chimera.Chimera object at 0x7f33ec27bee0>\n",
       " Protein with:\n",
       " Number of residues: 149\n",
       " Number of atoms: 1132,\n",
       " 'comb2_9_77': <protlego.builder.chimera.Chimera object at 0x7f33ec27bfd0>\n",
       " Protein with:\n",
       " Number of residues: 166\n",
       " Number of atoms: 1309,\n",
       " 'comb1_6_79': <protlego.builder.chimera.Chimera object at 0x7f33ec1a9490>\n",
       " Protein with:\n",
       " Number of residues: 149\n",
       " Number of atoms: 1132,\n",
       " 'comb1_6_91': <protlego.builder.chimera.Chimera object at 0x7f33ec222640>\n",
       " Protein with:\n",
       " Number of residues: 139\n",
       " Number of atoms: 1068,\n",
       " 'comb1_6_92': <protlego.builder.chimera.Chimera object at 0x7f33ec196b50>\n",
       " Protein with:\n",
       " Number of residues: 139\n",
       " Number of atoms: 1068,\n",
       " 'comb1_6_93': <protlego.builder.chimera.Chimera object at 0x7f33ec1a97f0>\n",
       " Protein with:\n",
       " Number of residues: 139\n",
       " Number of atoms: 1070,\n",
       " 'comb1_6_95': <protlego.builder.chimera.Chimera object at 0x7f33ec196130>\n",
       " Protein with:\n",
       " Number of residues: 139\n",
       " Number of atoms: 1077,\n",
       " 'comb1_6_96': <protlego.builder.chimera.Chimera object at 0x7f33ec2834f0>\n",
       " Protein with:\n",
       " Number of residues: 139\n",
       " Number of atoms: 1080,\n",
       " 'comb1_6_98': <protlego.builder.chimera.Chimera object at 0x7f33ec1f56d0>\n",
       " Protein with:\n",
       " Number of residues: 139\n",
       " Number of atoms: 1089,\n",
       " 'comb1_6_101': <protlego.builder.chimera.Chimera object at 0x7f33ec1b3700>\n",
       " Protein with:\n",
       " Number of residues: 139\n",
       " Number of atoms: 1095,\n",
       " 'comb1_6_102': <protlego.builder.chimera.Chimera object at 0x7f33ec1b35b0>\n",
       " Protein with:\n",
       " Number of residues: 139\n",
       " Number of atoms: 1092,\n",
       " 'comb1_6_107': <protlego.builder.chimera.Chimera object at 0x7f33ec143a90>\n",
       " Protein with:\n",
       " Number of residues: 139\n",
       " Number of atoms: 1095,\n",
       " 'comb1_6_109': <protlego.builder.chimera.Chimera object at 0x7f33ec143790>\n",
       " Protein with:\n",
       " Number of residues: 139\n",
       " Number of atoms: 1096,\n",
       " 'comb1_7_73': <protlego.builder.chimera.Chimera object at 0x7f33ec150880>\n",
       " Protein with:\n",
       " Number of residues: 149\n",
       " Number of atoms: 1133,\n",
       " 'comb1_7_74': <protlego.builder.chimera.Chimera object at 0x7f33ec1439a0>\n",
       " Protein with:\n",
       " Number of residues: 149\n",
       " Number of atoms: 1132,\n",
       " 'comb1_7_77': <protlego.builder.chimera.Chimera object at 0x7f33ec1da0a0>\n",
       " Protein with:\n",
       " Number of residues: 149\n",
       " Number of atoms: 1130,\n",
       " 'comb1_7_78': <protlego.builder.chimera.Chimera object at 0x7f33ec24a370>\n",
       " Protein with:\n",
       " Number of residues: 149\n",
       " Number of atoms: 1131,\n",
       " 'comb2_10_77': <protlego.builder.chimera.Chimera object at 0x7f33ec143160>\n",
       " Protein with:\n",
       " Number of residues: 166\n",
       " Number of atoms: 1310,\n",
       " 'comb1_7_79': <protlego.builder.chimera.Chimera object at 0x7f33ec1a9c70>\n",
       " Protein with:\n",
       " Number of residues: 149\n",
       " Number of atoms: 1131,\n",
       " 'comb1_7_91': <protlego.builder.chimera.Chimera object at 0x7f33ec26aa30>\n",
       " Protein with:\n",
       " Number of residues: 139\n",
       " Number of atoms: 1067,\n",
       " 'comb1_7_92': <protlego.builder.chimera.Chimera object at 0x7f33ec2ee670>\n",
       " Protein with:\n",
       " Number of residues: 139\n",
       " Number of atoms: 1067,\n",
       " 'comb1_7_93': <protlego.builder.chimera.Chimera object at 0x7f33ec185910>\n",
       " Protein with:\n",
       " Number of residues: 139\n",
       " Number of atoms: 1069,\n",
       " 'comb1_7_95': <protlego.builder.chimera.Chimera object at 0x7f33ec143c70>\n",
       " Protein with:\n",
       " Number of residues: 139\n",
       " Number of atoms: 1076,\n",
       " 'comb1_7_96': <protlego.builder.chimera.Chimera object at 0x7f33ec185400>\n",
       " Protein with:\n",
       " Number of residues: 139\n",
       " Number of atoms: 1079,\n",
       " 'comb1_7_98': <protlego.builder.chimera.Chimera object at 0x7f33ec288a30>\n",
       " Protein with:\n",
       " Number of residues: 139\n",
       " Number of atoms: 1088,\n",
       " 'comb1_7_101': <protlego.builder.chimera.Chimera object at 0x7f33ec148d60>\n",
       " Protein with:\n",
       " Number of residues: 139\n",
       " Number of atoms: 1094,\n",
       " 'comb1_7_102': <protlego.builder.chimera.Chimera object at 0x7f33ec26a1c0>\n",
       " Protein with:\n",
       " Number of residues: 139\n",
       " Number of atoms: 1091,\n",
       " 'comb1_7_107': <protlego.builder.chimera.Chimera object at 0x7f33ec1969a0>\n",
       " Protein with:\n",
       " Number of residues: 139\n",
       " Number of atoms: 1094,\n",
       " 'comb1_7_109': <protlego.builder.chimera.Chimera object at 0x7f33ec143040>\n",
       " Protein with:\n",
       " Number of residues: 139\n",
       " Number of atoms: 1095,\n",
       " 'comb1_8_73': <protlego.builder.chimera.Chimera object at 0x7f33ec26a820>\n",
       " Protein with:\n",
       " Number of residues: 149\n",
       " Number of atoms: 1134,\n",
       " 'comb1_8_74': <protlego.builder.chimera.Chimera object at 0x7f33ec148310>\n",
       " Protein with:\n",
       " Number of residues: 149\n",
       " Number of atoms: 1133,\n",
       " 'comb1_8_77': <protlego.builder.chimera.Chimera object at 0x7f33ec1b39a0>\n",
       " Protein with:\n",
       " Number of residues: 149\n",
       " Number of atoms: 1131,\n",
       " 'comb1_8_78': <protlego.builder.chimera.Chimera object at 0x7f33ec1a99d0>\n",
       " Protein with:\n",
       " Number of residues: 149\n",
       " Number of atoms: 1132,\n",
       " 'comb2_11_77': <protlego.builder.chimera.Chimera object at 0x7f33ec1de130>\n",
       " Protein with:\n",
       " Number of residues: 166\n",
       " Number of atoms: 1309,\n",
       " 'comb1_8_79': <protlego.builder.chimera.Chimera object at 0x7f33ec26ab50>\n",
       " Protein with:\n",
       " Number of residues: 149\n",
       " Number of atoms: 1132,\n",
       " 'comb1_8_91': <protlego.builder.chimera.Chimera object at 0x7f33ec2470d0>\n",
       " Protein with:\n",
       " Number of residues: 139\n",
       " Number of atoms: 1068,\n",
       " 'comb1_8_92': <protlego.builder.chimera.Chimera object at 0x7f33ec191250>\n",
       " Protein with:\n",
       " Number of residues: 139\n",
       " Number of atoms: 1068,\n",
       " 'comb1_8_93': <protlego.builder.chimera.Chimera object at 0x7f33ec1b3070>\n",
       " Protein with:\n",
       " Number of residues: 139\n",
       " Number of atoms: 1070,\n",
       " 'comb1_8_95': <protlego.builder.chimera.Chimera object at 0x7f33ec162220>\n",
       " Protein with:\n",
       " Number of residues: 139\n",
       " Number of atoms: 1077,\n",
       " 'comb1_8_96': <protlego.builder.chimera.Chimera object at 0x7f33ec101e80>\n",
       " Protein with:\n",
       " Number of residues: 139\n",
       " Number of atoms: 1080,\n",
       " 'comb1_8_98': <protlego.builder.chimera.Chimera object at 0x7f33ec14b0a0>\n",
       " Protein with:\n",
       " Number of residues: 139\n",
       " Number of atoms: 1089,\n",
       " 'comb1_8_101': <protlego.builder.chimera.Chimera object at 0x7f33ec148460>\n",
       " Protein with:\n",
       " Number of residues: 139\n",
       " Number of atoms: 1095,\n",
       " 'comb1_8_102': <protlego.builder.chimera.Chimera object at 0x7f33ec1433d0>\n",
       " Protein with:\n",
       " Number of residues: 139\n",
       " Number of atoms: 1092,\n",
       " 'comb1_8_107': <protlego.builder.chimera.Chimera object at 0x7f33ec1dea60>\n",
       " Protein with:\n",
       " Number of residues: 139\n",
       " Number of atoms: 1095,\n",
       " 'comb1_8_109': <protlego.builder.chimera.Chimera object at 0x7f33ec196af0>\n",
       " Protein with:\n",
       " Number of residues: 139\n",
       " Number of atoms: 1096,\n",
       " 'comb1_75_94': <protlego.builder.chimera.Chimera object at 0x7f33ec116520>\n",
       " Protein with:\n",
       " Number of residues: 135\n",
       " Number of atoms: 1011,\n",
       " 'comb1_75_97': <protlego.builder.chimera.Chimera object at 0x7f33ec169ac0>\n",
       " Protein with:\n",
       " Number of residues: 135\n",
       " Number of atoms: 1017,\n",
       " 'comb1_75_98': <protlego.builder.chimera.Chimera object at 0x7f33ec1f8850>\n",
       " Protein with:\n",
       " Number of residues: 135\n",
       " Number of atoms: 1014,\n",
       " 'comb1_75_103': <protlego.builder.chimera.Chimera object at 0x7f33ec162a90>\n",
       " Protein with:\n",
       " Number of residues: 135\n",
       " Number of atoms: 1017,\n",
       " 'comb1_75_105': <protlego.builder.chimera.Chimera object at 0x7f33ec11d6a0>\n",
       " Protein with:\n",
       " Number of residues: 135\n",
       " Number of atoms: 1018}"
      ]
     },
     "execution_count": 21,
     "metadata": {},
     "output_type": "execute_result"
    }
   ],
   "source": [
    "in_chimeras"
   ]
  },
  {
   "cell_type": "markdown",
   "metadata": {},
   "source": [
    "Similar to the first function, two combinations of chimeras are generated at the end of this run, i.e., comb1 and comb2. The names also contain the index of the insertion site in the chimera. \n",
    "\n",
    "It is now also possible to download the entire dictionary of chimeras generated. The command to download them is shown below. User has to provide the path to save these chimeras in and the name of the dictionary where the chimeras have been stored."
   ]
  },
  {
   "cell_type": "code",
   "execution_count": 22,
   "metadata": {},
   "outputs": [],
   "source": [
    "b.write_output('.', in_chimeras)"
   ]
  }
 ],
 "metadata": {
  "kernelspec": {
   "display_name": "Python 3 (ipykernel)",
   "language": "python",
   "name": "python3"
  },
  "language_info": {
   "codemirror_mode": {
    "name": "ipython",
    "version": 3
   },
   "file_extension": ".py",
   "mimetype": "text/x-python",
   "name": "python",
   "nbconvert_exporter": "python",
   "pygments_lexer": "ipython3",
   "version": "3.9.18"
  },
  "pycharm": {
   "stem_cell": {
    "cell_type": "raw",
    "metadata": {
     "collapsed": false
    },
    "source": []
   }
  }
 },
 "nbformat": 4,
 "nbformat_minor": 4
}
