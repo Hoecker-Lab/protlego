{
 "cells": [
  {
   "cell_type": "markdown",
   "metadata": {},
   "source": [
    "# Energy evaluation"
   ]
  },
  {
   "cell_type": "markdown",
   "metadata": {},
   "source": [
    "Let's import protlego"
   ]
  },
  {
   "cell_type": "code",
   "execution_count": 1,
   "metadata": {},
   "outputs": [],
   "source": [
    "import sys\n",
    "from protlego import *"
   ]
  },
  {
   "cell_type": "markdown",
   "metadata": {},
   "source": [
    "Let's fetch the same example we have been working on, the relationship between a TIM-barrel and a P-loop domain:"
   ]
  },
  {
   "cell_type": "code",
   "execution_count": 2,
   "metadata": {},
   "outputs": [],
   "source": [
    "myhit= fetch_id('10002347')"
   ]
  },
  {
   "cell_type": "markdown",
   "metadata": {},
   "source": [
    "Build all possible chimera-combinations from query and subject. As explained in detail in the \"Building chimeras\" section. The variable chimeras stores all the possible combinations,"
   ]
  },
  {
   "cell_type": "code",
   "execution_count": 5,
   "metadata": {
    "scrolled": true
   },
   "outputs": [
    {
     "name": "stderr",
     "output_type": "stream",
     "text": [
      "2020-07-31 10:42:24,415 - protlego - INFO - Attempting to download domain d1thfd_ from the SCOP server\n",
      "2020-07-31 10:42:25,965 - protlego - INFO - File downloaded as /tmp/tmpq3n80mub.pdb\n",
      "2020-07-31 10:42:25,967 - protlego - INFO - Attempting to download domain d2yhsa2 from the SCOP server\n",
      "2020-07-31 10:42:27,176 - protlego - INFO - File downloaded as /tmp/tmpilhmfsc5.pdb\n",
      "2020-07-31 10:42:27,178 - protlego - INFO - Loading /tmp/tmpq3n80mub.pdb as a chimera object\n",
      "2020-07-31 10:42:27,269 - moleculekit.molecule - WARNING - Alternative atom locations detected. Only altloc A was kept. If you prefer to keep all use the keepaltloc=\"all\" option when reading the file.\n",
      "2020-07-31 10:42:27,271 - protlego - INFO - Loading /tmp/tmpilhmfsc5.pdb as a chimera object\n",
      "2020-07-31 10:42:27,346 - moleculekit.molecule - WARNING - Alternative atom locations detected. Only altloc A was kept. If you prefer to keep all use the keepaltloc=\"all\" option when reading the file.\n",
      "2020-07-31 10:42:27,347 - protlego - INFO - Attempting to download hhs file for d1thfd_ from the FUZZLE server\n",
      "2020-07-31 10:42:27,517 - protlego - INFO - File downloaded as /tmp/tmpwhkyi63u.hhs\n",
      "2020-07-31 10:42:28,836 - protlego - INFO - Performing alignment 1 with TMalign\n",
      "2020-07-31 10:42:31,872 - protlego - INFO - The RMSD between the fragments is 0.33239004015922546 over 9 alpha carbons\n",
      "2020-07-31 10:42:31,884 - protlego - INFO - Performing alignment 2 with TMalign\n",
      "2020-07-31 10:42:31,967 - protlego - INFO - The RMSD between the fragments is 1.2737349271774292 over 10 alpha carbons\n",
      "2020-07-31 10:42:31,976 - protlego - INFO - Performing alignment 3 with TMalign\n",
      "2020-07-31 10:42:32,068 - protlego - INFO - The RMSD between the fragments is 3.9785287380218506 over 28 alpha carbons\n",
      "2020-07-31 10:42:32,080 - protlego - INFO - Performing alignment 4 with TMalign\n",
      "2020-07-31 10:42:32,174 - protlego - INFO - The RMSD between the fragments is 3.051856756210327 over 22 alpha carbons\n",
      "2020-07-31 10:42:32,186 - protlego - INFO - Performing alignment 5 with TMalign\n",
      "2020-07-31 10:42:32,281 - protlego - INFO - The RMSD between the fragments is 1.534366488456726 over 14 alpha carbons\n",
      "2020-07-31 10:42:32,293 - protlego - INFO - Performing alignment 6 with TMalign\n",
      "2020-07-31 10:42:32,398 - protlego - INFO - The RMSD between the fragments is 2.1622886657714844 over 11 alpha carbons\n",
      "2020-07-31 10:42:32,414 - protlego - INFO - Performing alignment 7 with TMalign\n",
      "2020-07-31 10:42:32,496 - protlego - INFO - The RMSD between the fragments is 2.422672986984253 over 12 alpha carbons\n",
      "2020-07-31 10:42:32,506 - protlego - INFO - Performing alignment 8 with TMalign\n",
      "2020-07-31 10:42:32,601 - protlego - INFO - The RMSD between the fragments is 5.102012634277344 over 22 alpha carbons\n",
      "2020-07-31 10:42:32,614 - protlego - INFO - Performing alignment 9 with TMalign\n",
      "2020-07-31 10:42:32,713 - protlego - INFO - The RMSD between the fragments is 9.403940200805664 over 38 alpha carbons\n"
     ]
    }
   ],
   "source": [
    "a=Builder(myhit)\n",
    "aln=a.get_alignment(myhit.query,myhit.no)\n",
    "qPDB, sPDB = a.superimpose_structures(aln,partial_alignment=True)\n",
    "chimeras=a.build_chimeras(partial_alignment=True)"
   ]
  },
  {
   "cell_type": "markdown",
   "metadata": {},
   "source": [
    "### 1. Energy calculation using molecular mechanics (Amber and Charmm)"
   ]
  },
  {
   "cell_type": "markdown",
   "metadata": {},
   "source": [
    "We can evaluate the potential energy of a chimera with the Charmm and Amber forcefieldds. As an option we can keep intermediate file in a folder or not. The function score_pot_energy takes a Chimera object as input and applies the selected forcefield:"
   ]
  },
  {
   "cell_type": "code",
   "execution_count": 6,
   "metadata": {},
   "outputs": [
    {
     "name": "stderr",
     "output_type": "stream",
     "text": [
      "2020-07-31 10:43:09,212 - propka - INFO - No pdbfile provided\n",
      "/sw/sci/app/protlego/miniconda3/envs/mod_protlego/lib/python3.6/site-packages/numpy/core/fromnumeric.py:57: FutureWarning: Series.nonzero() is deprecated and will be removed in a future version.Use Series.to_numpy().nonzero() instead\n",
      "  return getattr(obj, method)(*args, **kwds)\n"
     ]
    },
    {
     "name": "stdout",
     "output_type": "stream",
     "text": [
      "Potential Energy: 195233854730.05392 kcal/mol\n"
     ]
    }
   ],
   "source": [
    "chimera=Builder.mutate_nonstandards(chimeras['comb2_190'])\n",
    "_,_=score_pot_energy(chimeras['comb2_190'], 'amber')"
   ]
  },
  {
   "cell_type": "markdown",
   "metadata": {},
   "source": [
    "The built chimeras sometimes present internal clashes. For this reason, they tend to present very high potential energy scores. To compute a more realistic measure, we can minimize the structure using the minimize_potential_energy function. There's the possibility to run the minimization with GPU acceleration, and one can also choose to restraint the backbone or not."
   ]
  },
  {
   "cell_type": "code",
   "execution_count": 7,
   "metadata": {
    "scrolled": true
   },
   "outputs": [
    {
     "name": "stderr",
     "output_type": "stream",
     "text": [
      "/sw/sci/app/protlego/miniconda3/envs/mod_protlego/lib/python3.6/site-packages/parmed/charmm/parameters.py:797: ParameterWarning: Replacing residue 'TM3P'\n",
      "  resname, ParameterWarning)\n",
      "/sw/sci/app/protlego/miniconda3/envs/mod_protlego/lib/python3.6/site-packages/parmed/charmm/parameters.py:797: ParameterWarning: Replacing residue 'MGU1'\n",
      "  resname, ParameterWarning)\n",
      "/sw/sci/app/protlego/miniconda3/envs/mod_protlego/lib/python3.6/site-packages/parmed/charmm/parameters.py:797: ParameterWarning: Replacing residue 'MGU2'\n",
      "  resname, ParameterWarning)\n",
      "/sw/sci/app/protlego/miniconda3/envs/mod_protlego/lib/python3.6/site-packages/parmed/charmm/parameters.py:804: UserWarning: No charge for WEI3\n",
      "  warnings.warn('No charge for %s' % resname)\n"
     ]
    },
    {
     "name": "stdout",
     "output_type": "stream",
     "text": [
      "Energy before minimization 4187401915.1074705 kcal/mol\n",
      "Energy after minimization -3985.5893887369366 kcal/mol\n"
     ]
    },
    {
     "data": {
      "text/plain": [
       "(Quantity(value=-3985.5893887369366, unit=kilocalorie/mole),\n",
       " <protlego.builder.chimera.Chimera object at 0x7f7fbae1cfd0>\n",
       " Protein with:\n",
       " Number of residues: 239\n",
       " Number of atoms: 3673)"
      ]
     },
     "execution_count": 7,
     "metadata": {},
     "output_type": "execute_result"
    }
   ],
   "source": [
    "minimize_potential_energy(chimera, 'amber', cuda=True, restraint_backbone=False)"
   ]
  },
  {
   "cell_type": "markdown",
   "metadata": {},
   "source": [
    "We can do the same with the Charmm forcefield:"
   ]
  },
  {
   "cell_type": "code",
   "execution_count": 8,
   "metadata": {
    "scrolled": true
   },
   "outputs": [
    {
     "name": "stderr",
     "output_type": "stream",
     "text": [
      "/sw/sci/app/protlego/miniconda3/envs/mod_protlego/lib/python3.6/site-packages/parmed/charmm/parameters.py:797: ParameterWarning: Replacing residue 'TM3P'\n",
      "  resname, ParameterWarning)\n",
      "/sw/sci/app/protlego/miniconda3/envs/mod_protlego/lib/python3.6/site-packages/parmed/charmm/parameters.py:797: ParameterWarning: Replacing residue 'MGU1'\n",
      "  resname, ParameterWarning)\n",
      "/sw/sci/app/protlego/miniconda3/envs/mod_protlego/lib/python3.6/site-packages/parmed/charmm/parameters.py:797: ParameterWarning: Replacing residue 'MGU2'\n",
      "  resname, ParameterWarning)\n"
     ]
    },
    {
     "name": "stdout",
     "output_type": "stream",
     "text": [
      "Energy before minimization 4187401915.1070247 kcal/mol\n",
      "Energy after minimization -4033.609105974216 kcal/mol\n"
     ]
    },
    {
     "data": {
      "text/plain": [
       "(Quantity(value=-4033.609105974216, unit=kilocalorie/mole),\n",
       " <protlego.builder.chimera.Chimera object at 0x7f7fc1f6c7f0>\n",
       " Protein with:\n",
       " Number of residues: 239\n",
       " Number of atoms: 3673)"
      ]
     },
     "execution_count": 8,
     "metadata": {},
     "output_type": "execute_result"
    }
   ],
   "source": [
    "minimize_potential_energy(chimera, 'charmm', cuda=True, restraint_backbone=False)"
   ]
  },
  {
   "cell_type": "code",
   "execution_count": null,
   "metadata": {},
   "outputs": [],
   "source": []
  }
 ],
 "metadata": {
  "kernelspec": {
   "display_name": "Python 3",
   "language": "python",
   "name": "python3"
  },
  "language_info": {
   "codemirror_mode": {
    "name": "ipython",
    "version": 3
   },
   "file_extension": ".py",
   "mimetype": "text/x-python",
   "name": "python",
   "nbconvert_exporter": "python",
   "pygments_lexer": "ipython3",
   "version": "3.6.7"
  }
 },
 "nbformat": 4,
 "nbformat_minor": 2
}
