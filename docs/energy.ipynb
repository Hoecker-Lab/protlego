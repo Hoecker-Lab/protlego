{
 "cells": [
  {
   "cell_type": "markdown",
   "metadata": {},
   "source": [
    "# Energy evaluation"
   ]
  },
  {
   "cell_type": "markdown",
   "metadata": {},
   "source": [
    "Let's import protlego"
   ]
  },
  {
   "cell_type": "code",
   "execution_count": 1,
   "metadata": {},
   "outputs": [],
   "source": [
    "import sys\n",
    "sys.path.append(\"/agh/projects/noelia/github/\")\n",
    "from protlego import *"
   ]
  },
  {
   "cell_type": "markdown",
   "metadata": {},
   "source": [
    "Let's fetch the same example we have been working on, the relationship between Rossmann and P-loop domains:"
   ]
  },
  {
   "cell_type": "code",
   "execution_count": 2,
   "metadata": {},
   "outputs": [],
   "source": [
    "myhit= fetch_id('4413706')"
   ]
  },
  {
   "cell_type": "markdown",
   "metadata": {},
   "source": [
    "Build all possible chimera-combinations from query and subject. As explained in detail in the \"Building chimeras\" section. The variable chimeras stores all the possible combinations,"
   ]
  },
  {
   "cell_type": "code",
   "execution_count": 3,
   "metadata": {
    "scrolled": true
   },
   "outputs": [
    {
     "name": "stderr",
     "output_type": "stream",
     "text": [
      "2020-10-15 15:32:45,977 - protlego - INFO - Attempting to download domain d2dfda1 from the SCOP server\n",
      "2020-10-15 15:32:47,255 - protlego - INFO - File downloaded as /tmp/tmp2p7hy65n.pdb\n",
      "2020-10-15 15:32:47,255 - protlego - INFO - Attempting to download domain d1wa5a_ from the SCOP server\n",
      "2020-10-15 15:32:48,418 - protlego - INFO - File downloaded as /tmp/tmpw7tlc_tp.pdb\n",
      "2020-10-15 15:32:48,419 - protlego - INFO - Loading /tmp/tmp2p7hy65n.pdb as a chimera object\n",
      "2020-10-15 15:32:48,535 - moleculekit.molecule - WARNING - Alternative atom locations detected. Only altloc A was kept. If you prefer to keep all use the keepaltloc=\"all\" option when reading the file.\n",
      "2020-10-15 15:32:48,542 - protlego - INFO - Loading /tmp/tmpw7tlc_tp.pdb as a chimera object\n",
      "2020-10-15 15:32:48,600 - protlego - INFO - Attempting to download hhs file for d2dfda1 from the FUZZLE server\n",
      "2020-10-15 15:32:48,741 - protlego - INFO - File downloaded as /tmp/tmp8me2mcgi.hhs\n",
      "2020-10-15 15:32:49,685 - protlego - INFO - Performing alignment 1 with TMalign\n",
      "2020-10-15 15:32:52,462 - protlego - INFO - The RMSD between the fragments is 0.6881080269813538 over 6 alpha carbons\n",
      "2020-10-15 15:32:52,469 - protlego - INFO - Performing alignment 2 with TMalign\n",
      "2020-10-15 15:32:52,537 - protlego - INFO - The RMSD between the fragments is 2.3234670162200928 over 6 alpha carbons\n",
      "2020-10-15 15:32:52,545 - protlego - INFO - Performing alignment 3 with TMalign\n",
      "2020-10-15 15:32:52,625 - protlego - INFO - The RMSD between the fragments is 1.1804629564285278 over 9 alpha carbons\n",
      "2020-10-15 15:32:52,635 - protlego - INFO - Performing alignment 4 with TMalign\n",
      "2020-10-15 15:32:52,717 - protlego - INFO - The RMSD between the fragments is 10.348335266113281 over 34 alpha carbons\n",
      "2020-10-15 15:32:52,726 - protlego - INFO - Performing alignment 5 with TMalign\n",
      "2020-10-15 15:32:52,799 - protlego - INFO - The RMSD between the fragments is 4.646137714385986 over 17 alpha carbons\n",
      "2020-10-15 15:32:52,807 - protlego - INFO - Performing alignment 6 with TMalign\n",
      "2020-10-15 15:32:52,883 - protlego - INFO - The RMSD between the fragments is 3.52919340133667 over 29 alpha carbons\n"
     ]
    }
   ],
   "source": [
    "a=Builder(myhit)\n",
    "aln=a.get_alignment(myhit.query,myhit.no)\n",
    "qPDB, sPDB = a.superimpose_structures(aln,partial_alignment=True)\n",
    "chimeras=a.build_chimeras(partial_alignment=True)"
   ]
  },
  {
   "cell_type": "markdown",
   "metadata": {},
   "source": [
    "### 1. Energy calculation using molecular mechanics (Amber and Charmm)"
   ]
  },
  {
   "cell_type": "markdown",
   "metadata": {},
   "source": [
    "We can evaluate the potential energy of a chimera with the Charmm and Amber forcefieldds. Let's first take a chimera as an example."
   ]
  },
  {
   "cell_type": "code",
   "execution_count": 4,
   "metadata": {},
   "outputs": [],
   "source": [
    "chimera=Builder.mutate_nonstandards(chimeras['comb1_72'])"
   ]
  },
  {
   "cell_type": "markdown",
   "metadata": {},
   "source": [
    "The built chimeras sometimes present internal clashes. For this reason, they tend to present very high potential energy scores. To compute a more realistic measure, we can minimize the structure using the minimize_potential_energy function. There's the possibility to run the minimization with GPU acceleration, and one can also choose to restraint the backbone or not."
   ]
  },
  {
   "cell_type": "code",
   "execution_count": 5,
   "metadata": {
    "scrolled": false
   },
   "outputs": [
    {
     "name": "stderr",
     "output_type": "stream",
     "text": [
      "2020-10-15 15:32:56,424 - propka - INFO - No pdbfile provided\n",
      "/agh/projects/noelia/miniconda3/envs/my-rdkit-env/lib/python3.6/site-packages/numpy/core/fromnumeric.py:57: FutureWarning: Series.nonzero() is deprecated and will be removed in a future version.Use Series.to_numpy().nonzero() instead\n",
      "  return getattr(obj, method)(*args, **kwds)\n"
     ]
    },
    {
     "name": "stdout",
     "output_type": "stream",
     "text": [
      "Energy before minimization -21941.663781507184 kcal/mol\n",
      "Energy after minimization -122059.73466898261 kcal/mol\n"
     ]
    },
    {
     "data": {
      "text/plain": [
       "(Quantity(value=-122059.73466898261, unit=kilocalorie/mole),\n",
       " <protlego.builder.chimera.Chimera object at 0x7f1fd2a09438>\n",
       " Protein with:\n",
       " Number of residues: 8656\n",
       " Number of atoms: 28076)"
      ]
     },
     "execution_count": 5,
     "metadata": {},
     "output_type": "execute_result"
    }
   ],
   "source": [
    "minimize_potential_energy(chimera, 'amber', cuda=True, restraint_backbone=False)"
   ]
  },
  {
   "cell_type": "code",
   "execution_count": 6,
   "metadata": {},
   "outputs": [
    {
     "name": "stdout",
     "output_type": "stream",
     "text": [
      "Energy before minimization -21979.90469928921 kcal/mol\n",
      "Energy after minimization -122144.3107700349 kcal/mol\n"
     ]
    },
    {
     "data": {
      "text/plain": [
       "(Quantity(value=-122144.3107700349, unit=kilocalorie/mole),\n",
       " <protlego.builder.chimera.Chimera object at 0x7f1fd1f33a20>\n",
       " Protein with:\n",
       " Number of residues: 8656\n",
       " Number of atoms: 28076)"
      ]
     },
     "execution_count": 6,
     "metadata": {},
     "output_type": "execute_result"
    }
   ],
   "source": [
    "minimize_potential_energy(chimera, 'amber')"
   ]
  },
  {
   "cell_type": "code",
   "execution_count": 7,
   "metadata": {
    "scrolled": true
   },
   "outputs": [
    {
     "name": "stdout",
     "output_type": "stream",
     "text": [
      "Energy before minimization -22093.522051105654 kcal/mol\n",
      "Energy after minimization -122243.04335524263 kcal/mol\n"
     ]
    },
    {
     "data": {
      "text/plain": [
       "(Quantity(value=-122243.04335524263, unit=kilocalorie/mole),\n",
       " <protlego.builder.chimera.Chimera object at 0x7f1fd7bd3320>\n",
       " Protein with:\n",
       " Number of residues: 8656\n",
       " Number of atoms: 28076)"
      ]
     },
     "execution_count": 7,
     "metadata": {},
     "output_type": "execute_result"
    }
   ],
   "source": [
    "minimize_potential_energy(chimera, 'amber', cuda=True, restraint_backbone=False)"
   ]
  },
  {
   "cell_type": "code",
   "execution_count": 8,
   "metadata": {},
   "outputs": [
    {
     "name": "stdout",
     "output_type": "stream",
     "text": [
      "Energy before minimization -22258.007146017764 kcal/mol\n",
      "Energy after minimization -92035.4928056736 kcal/mol\n"
     ]
    },
    {
     "data": {
      "text/plain": [
       "(Quantity(value=-92035.4928056736, unit=kilocalorie/mole),\n",
       " <protlego.builder.chimera.Chimera object at 0x7f1fcdfd2b38>\n",
       " Protein with:\n",
       " Number of residues: 7478\n",
       " Number of atoms: 24542)"
      ]
     },
     "execution_count": 8,
     "metadata": {},
     "output_type": "execute_result"
    }
   ],
   "source": [
    "minimize_potential_energy(chimera, 'charmm')"
   ]
  },
  {
   "cell_type": "code",
   "execution_count": 9,
   "metadata": {},
   "outputs": [
    {
     "name": "stdout",
     "output_type": "stream",
     "text": [
      "Energy before minimization -22000.597968197497 kcal/mol\n",
      "Energy after minimization -91758.89551087368 kcal/mol\n"
     ]
    },
    {
     "data": {
      "text/plain": [
       "(Quantity(value=-91758.89551087368, unit=kilocalorie/mole),\n",
       " <protlego.builder.chimera.Chimera object at 0x7f1fce9087b8>\n",
       " Protein with:\n",
       " Number of residues: 7478\n",
       " Number of atoms: 24542)"
      ]
     },
     "execution_count": 9,
     "metadata": {},
     "output_type": "execute_result"
    }
   ],
   "source": [
    "minimize_potential_energy(chimera, 'charmm', cuda=True, restraint_backbone=False)"
   ]
  }
 ],
 "metadata": {
  "kernelspec": {
   "display_name": "Python 3",
   "language": "python",
   "name": "python3"
  },
  "language_info": {
   "codemirror_mode": {
    "name": "ipython",
    "version": 3
   },
   "file_extension": ".py",
   "mimetype": "text/x-python",
   "name": "python",
   "nbconvert_exporter": "python",
   "pygments_lexer": "ipython3",
   "version": "3.6.7"
  }
 },
 "nbformat": 4,
 "nbformat_minor": 2
}
